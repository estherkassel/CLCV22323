{
 "cells": [
  {
   "cell_type": "code",
   "execution_count": 90,
   "id": "d5ee33de",
   "metadata": {},
   "outputs": [],
   "source": [
    "import json\n",
    "\n",
    "import urllib.request"
   ]
  },
  {
   "cell_type": "code",
   "execution_count": 91,
   "id": "ed6f17f0",
   "metadata": {},
   "outputs": [],
   "source": [
    "def get_data(pleiadesid):\n",
    "    uri = f'https://pleiades.stoa.org/places/{pleiadesid}/json'\n",
    "    with urllib.request.urlopen(uri) as f:\n",
    "        data = json.loads(f.read().decode())\n",
    "        data = [data['features'][0]['properties']['title'], pleiadesid, data['features'][0]['geometry']['coordinates'][0], data['features'][0]['geometry']['coordinates'][1]]\n",
    "        return data"
   ]
  },
  {
   "cell_type": "code",
   "execution_count": 92,
   "id": "a88ccd1d",
   "metadata": {},
   "outputs": [],
   "source": [
    "def export_coordinates(input_list, filename):\n",
    "    output = []\n",
    "    for pleiadesid in input_list:\n",
    "        try:\n",
    "            output.append(get_data(pleiadesid))\n",
    "        except:\n",
    "            pass #if the function cannot process it, it does nothings => it skips it\n",
    "    with open(filename, \"w\") as f:\n",
    "        f.write(\"Title, PleiadesID, Longitude, Latitude\\n\")\n",
    "        for line in output: \n",
    "            f.write(f'{line[0]}, {line[1]}, {line[2]}, {line[3]}\\n')"
   ]
  },
  {
   "cell_type": "code",
   "execution_count": 93,
   "id": "80c5c71e",
   "metadata": {},
   "outputs": [],
   "source": [
    "export_coordinates([589918, 570685, 3281973], \"DHAW-10.csv\")"
   ]
  }
 ],
 "metadata": {
  "kernelspec": {
   "display_name": "Python 3 (ipykernel)",
   "language": "python",
   "name": "python3"
  },
  "language_info": {
   "codemirror_mode": {
    "name": "ipython",
    "version": 3
   },
   "file_extension": ".py",
   "mimetype": "text/x-python",
   "name": "python",
   "nbconvert_exporter": "python",
   "pygments_lexer": "ipython3",
   "version": "3.11.5"
  }
 },
 "nbformat": 4,
 "nbformat_minor": 5
}
