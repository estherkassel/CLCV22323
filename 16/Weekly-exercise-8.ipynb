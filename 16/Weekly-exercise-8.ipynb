{
 "cells": [
  {
   "cell_type": "code",
   "execution_count": 3,
   "id": "a4dd9247",
   "metadata": {},
   "outputs": [],
   "source": [
    "import pandas as pd\n",
    "import sqlite3"
   ]
  },
  {
   "cell_type": "code",
   "execution_count": 4,
   "id": "ea93dbd1",
   "metadata": {},
   "outputs": [
    {
     "data": {
      "text/plain": [
       "1388"
      ]
     },
     "execution_count": 4,
     "metadata": {},
     "output_type": "execute_result"
    }
   ],
   "source": [
    "connection = sqlite3.connect(\":memory:\")\n",
    "\n",
    "cities_df = pd.read_excel('Hanson2016_CitiesDatabase_OxREP.xlsx', sheet_name='cities')\n",
    "\n",
    "cities_df.to_sql('cities', con = connection, index = False)"
   ]
  },
  {
   "cell_type": "markdown",
   "id": "c081d7e9",
   "metadata": {},
   "source": [
    "### Create an ordered list with the city of each province with the most monuments, along with the counts of the monuments."
   ]
  },
  {
   "cell_type": "code",
   "execution_count": null,
   "id": "c68f6190",
   "metadata": {},
   "outputs": [],
   "source": []
  }
 ],
 "metadata": {
  "kernelspec": {
   "display_name": "Python 3 (ipykernel)",
   "language": "python",
   "name": "python3"
  },
  "language_info": {
   "codemirror_mode": {
    "name": "ipython",
    "version": 3
   },
   "file_extension": ".py",
   "mimetype": "text/x-python",
   "name": "python",
   "nbconvert_exporter": "python",
   "pygments_lexer": "ipython3",
   "version": "3.11.5"
  }
 },
 "nbformat": 4,
 "nbformat_minor": 5
}
