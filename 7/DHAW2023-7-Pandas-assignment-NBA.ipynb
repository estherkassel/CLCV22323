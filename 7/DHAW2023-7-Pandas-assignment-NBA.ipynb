{
 "cells": [
  {
   "cell_type": "code",
   "execution_count": 3,
   "id": "a20ab521",
   "metadata": {},
   "outputs": [],
   "source": [
    "import pandas as pd\n",
    "pd.set_option('display.max_rows', 500)\n",
    "pd.set_option('display.max_columns', 500)\n",
    "pd.set_option('display.width', 1000)"
   ]
  },
  {
   "cell_type": "markdown",
   "id": "f1fc31e0",
   "metadata": {},
   "source": [
    "#### Read the file 'DHAW2023-7-Pandas-assignment-NBA.xlsx'. I downloaded the excel from [nbastuffer.com](https://www.nbastuffer.com/2021-2022-nba-player-stats/) and I removed the first column and the first row."
   ]
  },
  {
   "cell_type": "code",
   "execution_count": 184,
   "id": "ed060efd",
   "metadata": {
    "scrolled": true
   },
   "outputs": [],
   "source": [
    "df = pd.read_excel(\"DHAW2023-7-Pandas-assignment-NBA.xlsx\")"
   ]
  },
  {
   "cell_type": "markdown",
   "id": "51954acb",
   "metadata": {},
   "source": [
    "#### Print the first five lines"
   ]
  },
  {
   "cell_type": "code",
   "execution_count": 9,
   "id": "8df96757",
   "metadata": {},
   "outputs": [
    {
     "data": {
      "text/html": [
       "<div>\n",
       "<style scoped>\n",
       "    .dataframe tbody tr th:only-of-type {\n",
       "        vertical-align: middle;\n",
       "    }\n",
       "\n",
       "    .dataframe tbody tr th {\n",
       "        vertical-align: top;\n",
       "    }\n",
       "\n",
       "    .dataframe thead th {\n",
       "        text-align: right;\n",
       "    }\n",
       "</style>\n",
       "<table border=\"1\" class=\"dataframe\">\n",
       "  <thead>\n",
       "    <tr style=\"text-align: right;\">\n",
       "      <th></th>\n",
       "      <th>FULL NAME</th>\n",
       "      <th>TEAM</th>\n",
       "      <th>POS</th>\n",
       "      <th>AGE</th>\n",
       "      <th>GP</th>\n",
       "      <th>MPG</th>\n",
       "      <th>MIN%Minutes PercentagePercentage of team minutes used by a player while he was on the floor</th>\n",
       "      <th>USG%Usage RateUsage rate, a.k.a., usage percentage is an estimate of the percentage of team plays used by a player while he was on the floor</th>\n",
       "      <th>TO%Turnover RateA metric that estimates the number of turnovers a player commits per 100 possessions</th>\n",
       "      <th>FTA</th>\n",
       "      <th>FT%</th>\n",
       "      <th>2PA</th>\n",
       "      <th>2P%</th>\n",
       "      <th>3PA</th>\n",
       "      <th>3P%</th>\n",
       "      <th>eFG%Effective Shooting PercentageWith eFG%, three-point shots made are worth 50% more than two-point shots made. eFG% Formula=(FGM+ (0.5 x 3PM))/FGA</th>\n",
       "      <th>TS%True Shooting PercentageTrue shooting percentage is a measure of shooting efficiency that takes into account field goals, 3-point field goals, and free throws.</th>\n",
       "      <th>PPGPointsPoints per game.</th>\n",
       "      <th>RPGReboundsRebounds per game.</th>\n",
       "      <th>TRB%Total Rebound PercentageTotal rebound percentage is estimated percentage of available rebounds grabbed by the player while the player is on the court.</th>\n",
       "      <th>APGAssistsAssists per game.</th>\n",
       "      <th>AST%Assist PercentageAssist percentage is an estimated percentage of teammate field goals a player assisted while the player is on the court</th>\n",
       "      <th>SPGStealsSteals per game.</th>\n",
       "      <th>BPGBlocksBlocks per game.</th>\n",
       "      <th>TOPGTurnoversTurnovers per game.</th>\n",
       "      <th>VIVersatility IndexVersatility index is a metric that measures a player’s ability to produce in points, assists, and rebounds. The average player will score around a five on the index, while top players score above 10</th>\n",
       "      <th>ORTGOffensive RatingIndividual offensive rating is the number of points produced by a player per 100 total individual possessions.</th>\n",
       "      <th>DRTGDefensive RatingIndividual defensive rating estimates how many points the player allowed per 100 possessions he individually faced while staying on the court.</th>\n",
       "    </tr>\n",
       "  </thead>\n",
       "  <tbody>\n",
       "    <tr>\n",
       "      <th>0</th>\n",
       "      <td>Precious Achiuwa</td>\n",
       "      <td>Tor</td>\n",
       "      <td>F</td>\n",
       "      <td>22.74</td>\n",
       "      <td>6</td>\n",
       "      <td>27.8</td>\n",
       "      <td>57.8</td>\n",
       "      <td>18.2</td>\n",
       "      <td>13.8</td>\n",
       "      <td>10</td>\n",
       "      <td>0.600</td>\n",
       "      <td>36</td>\n",
       "      <td>0.556</td>\n",
       "      <td>16</td>\n",
       "      <td>0.313</td>\n",
       "      <td>0.529</td>\n",
       "      <td>0.541</td>\n",
       "      <td>10.2</td>\n",
       "      <td>4.8</td>\n",
       "      <td>10.7</td>\n",
       "      <td>1.0</td>\n",
       "      <td>5.7</td>\n",
       "      <td>0.17</td>\n",
       "      <td>0.83</td>\n",
       "      <td>1.50</td>\n",
       "      <td>5.3</td>\n",
       "      <td>103.3</td>\n",
       "      <td>107.9</td>\n",
       "    </tr>\n",
       "    <tr>\n",
       "      <th>1</th>\n",
       "      <td>Steven Adams</td>\n",
       "      <td>Mem</td>\n",
       "      <td>C</td>\n",
       "      <td>28.91</td>\n",
       "      <td>7</td>\n",
       "      <td>16.2</td>\n",
       "      <td>33.8</td>\n",
       "      <td>10.8</td>\n",
       "      <td>13.4</td>\n",
       "      <td>11</td>\n",
       "      <td>0.545</td>\n",
       "      <td>21</td>\n",
       "      <td>0.429</td>\n",
       "      <td>0</td>\n",
       "      <td>0.000</td>\n",
       "      <td>0.429</td>\n",
       "      <td>0.464</td>\n",
       "      <td>3.4</td>\n",
       "      <td>6.4</td>\n",
       "      <td>20.9</td>\n",
       "      <td>2.1</td>\n",
       "      <td>17.6</td>\n",
       "      <td>0.14</td>\n",
       "      <td>0.14</td>\n",
       "      <td>0.57</td>\n",
       "      <td>8.8</td>\n",
       "      <td>120.1</td>\n",
       "      <td>100.4</td>\n",
       "    </tr>\n",
       "  </tbody>\n",
       "</table>\n",
       "</div>"
      ],
      "text/plain": [
       "          FULL NAME TEAM POS    AGE  GP   MPG  MIN%Minutes PercentagePercentage of team minutes used by a player while he was on the floor  USG%Usage RateUsage rate, a.k.a., usage percentage is an estimate of the percentage of team plays used by a player while he was on the floor  TO%Turnover RateA metric that estimates the number of turnovers a player commits per 100 possessions  FTA    FT%  2PA    2P%  3PA    3P%  eFG%Effective Shooting PercentageWith eFG%, three-point shots made are worth 50% more than two-point shots made. eFG% Formula=(FGM+ (0.5 x 3PM))/FGA  TS%True Shooting PercentageTrue shooting percentage is a measure of shooting efficiency that takes into account field goals, 3-point field goals, and free throws.  PPGPointsPoints per game.  RPGReboundsRebounds per game.  TRB%Total Rebound PercentageTotal rebound percentage is estimated percentage of available rebounds grabbed by the player while the player is on the court.  APGAssistsAssists per game.  \\\n",
       "0  Precious Achiuwa  Tor   F  22.74   6  27.8                                               57.8                                                                                         18.2                                                                                                                                          13.8                                                      10  0.600   36  0.556   16  0.313                                              0.529                                                                                                                                                 0.541                                                                                                                                        10.2                            4.8                                               10.7                                                                                                                                   1.0   \n",
       "1      Steven Adams  Mem   C  28.91   7  16.2                                               33.8                                                                                         10.8                                                                                                                                          13.4                                                      11  0.545   21  0.429    0  0.000                                              0.429                                                                                                                                                 0.464                                                                                                                                         3.4                            6.4                                               20.9                                                                                                                                   2.1   \n",
       "\n",
       "   AST%Assist PercentageAssist percentage is an estimated percentage of teammate field goals a player assisted while the player is on the court  SPGStealsSteals per game.  BPGBlocksBlocks per game.  TOPGTurnoversTurnovers per game.  VIVersatility IndexVersatility index is a metric that measures a player’s ability to produce in points, assists, and rebounds. The average player will score around a five on the index, while top players score above 10  ORTGOffensive RatingIndividual offensive rating is the number of points produced by a player per 100 total individual possessions.  DRTGDefensive RatingIndividual defensive rating estimates how many points the player allowed per 100 possessions he individually faced while staying on the court.  \n",
       "0                                                5.7                                                                                                                  0.17                       0.83                              1.50                                                5.3                                                                                                                                                                                                                      103.3                                                                                                                               107.9                                                                                                                   \n",
       "1                                               17.6                                                                                                                  0.14                       0.14                              0.57                                                8.8                                                                                                                                                                                                                      120.1                                                                                                                               100.4                                                                                                                   "
      ]
     },
     "execution_count": 9,
     "metadata": {},
     "output_type": "execute_result"
    }
   ],
   "source": [
    "df.head(2)"
   ]
  },
  {
   "cell_type": "markdown",
   "id": "2aadd1dd",
   "metadata": {},
   "source": [
    "#### Get the name of the columns"
   ]
  },
  {
   "cell_type": "code",
   "execution_count": 12,
   "id": "5f991c73",
   "metadata": {},
   "outputs": [
    {
     "data": {
      "text/html": [
       "<div>\n",
       "<style scoped>\n",
       "    .dataframe tbody tr th:only-of-type {\n",
       "        vertical-align: middle;\n",
       "    }\n",
       "\n",
       "    .dataframe tbody tr th {\n",
       "        vertical-align: top;\n",
       "    }\n",
       "\n",
       "    .dataframe thead th {\n",
       "        text-align: right;\n",
       "    }\n",
       "</style>\n",
       "<table border=\"1\" class=\"dataframe\">\n",
       "  <thead>\n",
       "    <tr style=\"text-align: right;\">\n",
       "      <th></th>\n",
       "      <th>FULL NAME</th>\n",
       "      <th>TEAM</th>\n",
       "      <th>POS</th>\n",
       "      <th>AGE</th>\n",
       "      <th>GP</th>\n",
       "      <th>MPG</th>\n",
       "      <th>MIN%Minutes PercentagePercentage of team minutes used by a player while he was on the floor</th>\n",
       "      <th>USG%Usage RateUsage rate, a.k.a., usage percentage is an estimate of the percentage of team plays used by a player while he was on the floor</th>\n",
       "      <th>TO%Turnover RateA metric that estimates the number of turnovers a player commits per 100 possessions</th>\n",
       "      <th>FTA</th>\n",
       "      <th>FT%</th>\n",
       "      <th>2PA</th>\n",
       "      <th>2P%</th>\n",
       "      <th>3PA</th>\n",
       "      <th>3P%</th>\n",
       "      <th>eFG%Effective Shooting PercentageWith eFG%, three-point shots made are worth 50% more than two-point shots made. eFG% Formula=(FGM+ (0.5 x 3PM))/FGA</th>\n",
       "      <th>TS%True Shooting PercentageTrue shooting percentage is a measure of shooting efficiency that takes into account field goals, 3-point field goals, and free throws.</th>\n",
       "      <th>PPGPointsPoints per game.</th>\n",
       "      <th>RPGReboundsRebounds per game.</th>\n",
       "      <th>TRB%Total Rebound PercentageTotal rebound percentage is estimated percentage of available rebounds grabbed by the player while the player is on the court.</th>\n",
       "      <th>APGAssistsAssists per game.</th>\n",
       "      <th>AST%Assist PercentageAssist percentage is an estimated percentage of teammate field goals a player assisted while the player is on the court</th>\n",
       "      <th>SPGStealsSteals per game.</th>\n",
       "      <th>BPGBlocksBlocks per game.</th>\n",
       "      <th>TOPGTurnoversTurnovers per game.</th>\n",
       "      <th>VIVersatility IndexVersatility index is a metric that measures a player’s ability to produce in points, assists, and rebounds. The average player will score around a five on the index, while top players score above 10</th>\n",
       "      <th>ORTGOffensive RatingIndividual offensive rating is the number of points produced by a player per 100 total individual possessions.</th>\n",
       "      <th>DRTGDefensive RatingIndividual defensive rating estimates how many points the player allowed per 100 possessions he individually faced while staying on the court.</th>\n",
       "    </tr>\n",
       "  </thead>\n",
       "  <tbody>\n",
       "  </tbody>\n",
       "</table>\n",
       "</div>"
      ],
      "text/plain": [
       "Empty DataFrame\n",
       "Columns: [FULL NAME, TEAM, POS, AGE, GP, MPG, MIN%Minutes PercentagePercentage of team minutes used by a player while he was on the floor, USG%Usage RateUsage rate, a.k.a., usage percentage is an estimate of the percentage of team plays used by a player while he was on the floor, TO%Turnover RateA metric that estimates the number of turnovers a player commits per 100 possessions, FTA, FT%, 2PA, 2P%, 3PA, 3P%, eFG%Effective Shooting PercentageWith eFG%, three-point shots made are worth 50% more than two-point shots made. eFG% Formula=(FGM+ (0.5 x 3PM))/FGA, TS%True Shooting PercentageTrue shooting percentage is a measure of shooting efficiency that takes into account field goals, 3-point field goals, and free throws., PPGPointsPoints per game., RPGReboundsRebounds per game., TRB%Total Rebound PercentageTotal rebound percentage is estimated percentage of available rebounds grabbed by the player while the player is on the court., APGAssistsAssists per game., AST%Assist PercentageAssist percentage is an estimated percentage of teammate field goals a player assisted while the player is on the court, SPGStealsSteals per game., BPGBlocksBlocks per game., TOPGTurnoversTurnovers per game., VIVersatility IndexVersatility index is a metric that measures a player’s ability to produce in points, assists, and rebounds. The average player will score around a five on the index, while top players score above 10, ORTGOffensive RatingIndividual offensive rating is the number of points produced by a player per 100 total individual possessions., DRTGDefensive RatingIndividual defensive rating estimates how many points the player allowed per 100 possessions he individually faced while staying on the court.]\n",
       "Index: []"
      ]
     },
     "execution_count": 12,
     "metadata": {},
     "output_type": "execute_result"
    }
   ],
   "source": [
    "df.head(0)"
   ]
  },
  {
   "cell_type": "markdown",
   "id": "a9cf516e",
   "metadata": {},
   "source": [
    "#### Get the stats of \"Giannis Antetokounmpo\""
   ]
  },
  {
   "cell_type": "code",
   "execution_count": 13,
   "id": "101c3820",
   "metadata": {},
   "outputs": [
    {
     "data": {
      "text/html": [
       "<div>\n",
       "<style scoped>\n",
       "    .dataframe tbody tr th:only-of-type {\n",
       "        vertical-align: middle;\n",
       "    }\n",
       "\n",
       "    .dataframe tbody tr th {\n",
       "        vertical-align: top;\n",
       "    }\n",
       "\n",
       "    .dataframe thead th {\n",
       "        text-align: right;\n",
       "    }\n",
       "</style>\n",
       "<table border=\"1\" class=\"dataframe\">\n",
       "  <thead>\n",
       "    <tr style=\"text-align: right;\">\n",
       "      <th></th>\n",
       "      <th>FULL NAME</th>\n",
       "      <th>TEAM</th>\n",
       "      <th>POS</th>\n",
       "      <th>AGE</th>\n",
       "      <th>GP</th>\n",
       "      <th>MPG</th>\n",
       "      <th>MIN%Minutes PercentagePercentage of team minutes used by a player while he was on the floor</th>\n",
       "      <th>USG%Usage RateUsage rate, a.k.a., usage percentage is an estimate of the percentage of team plays used by a player while he was on the floor</th>\n",
       "      <th>TO%Turnover RateA metric that estimates the number of turnovers a player commits per 100 possessions</th>\n",
       "      <th>FTA</th>\n",
       "      <th>FT%</th>\n",
       "      <th>2PA</th>\n",
       "      <th>2P%</th>\n",
       "      <th>3PA</th>\n",
       "      <th>3P%</th>\n",
       "      <th>eFG%Effective Shooting PercentageWith eFG%, three-point shots made are worth 50% more than two-point shots made. eFG% Formula=(FGM+ (0.5 x 3PM))/FGA</th>\n",
       "      <th>TS%True Shooting PercentageTrue shooting percentage is a measure of shooting efficiency that takes into account field goals, 3-point field goals, and free throws.</th>\n",
       "      <th>PPGPointsPoints per game.</th>\n",
       "      <th>RPGReboundsRebounds per game.</th>\n",
       "      <th>TRB%Total Rebound PercentageTotal rebound percentage is estimated percentage of available rebounds grabbed by the player while the player is on the court.</th>\n",
       "      <th>APGAssistsAssists per game.</th>\n",
       "      <th>AST%Assist PercentageAssist percentage is an estimated percentage of teammate field goals a player assisted while the player is on the court</th>\n",
       "      <th>SPGStealsSteals per game.</th>\n",
       "      <th>BPGBlocksBlocks per game.</th>\n",
       "      <th>TOPGTurnoversTurnovers per game.</th>\n",
       "      <th>VIVersatility IndexVersatility index is a metric that measures a player’s ability to produce in points, assists, and rebounds. The average player will score around a five on the index, while top players score above 10</th>\n",
       "      <th>ORTGOffensive RatingIndividual offensive rating is the number of points produced by a player per 100 total individual possessions.</th>\n",
       "      <th>DRTGDefensive RatingIndividual defensive rating estimates how many points the player allowed per 100 possessions he individually faced while staying on the court.</th>\n",
       "    </tr>\n",
       "  </thead>\n",
       "  <tbody>\n",
       "    <tr>\n",
       "      <th>7</th>\n",
       "      <td>Giannis Antetokounmpo</td>\n",
       "      <td>Mil</td>\n",
       "      <td>F</td>\n",
       "      <td>27.53</td>\n",
       "      <td>12</td>\n",
       "      <td>37.3</td>\n",
       "      <td>77.7</td>\n",
       "      <td>38.5</td>\n",
       "      <td>13.6</td>\n",
       "      <td>134</td>\n",
       "      <td>0.679</td>\n",
       "      <td>244</td>\n",
       "      <td>0.537</td>\n",
       "      <td>41</td>\n",
       "      <td>0.22</td>\n",
       "      <td>0.507</td>\n",
       "      <td>0.552</td>\n",
       "      <td>31.7</td>\n",
       "      <td>14.2</td>\n",
       "      <td>19.5</td>\n",
       "      <td>6.8</td>\n",
       "      <td>37.0</td>\n",
       "      <td>0.67</td>\n",
       "      <td>1.33</td>\n",
       "      <td>4.5</td>\n",
       "      <td>15.6</td>\n",
       "      <td>107.9</td>\n",
       "      <td>99.6</td>\n",
       "    </tr>\n",
       "  </tbody>\n",
       "</table>\n",
       "</div>"
      ],
      "text/plain": [
       "               FULL NAME TEAM POS    AGE  GP   MPG  MIN%Minutes PercentagePercentage of team minutes used by a player while he was on the floor  USG%Usage RateUsage rate, a.k.a., usage percentage is an estimate of the percentage of team plays used by a player while he was on the floor  TO%Turnover RateA metric that estimates the number of turnovers a player commits per 100 possessions  FTA    FT%  2PA    2P%  3PA   3P%  eFG%Effective Shooting PercentageWith eFG%, three-point shots made are worth 50% more than two-point shots made. eFG% Formula=(FGM+ (0.5 x 3PM))/FGA  TS%True Shooting PercentageTrue shooting percentage is a measure of shooting efficiency that takes into account field goals, 3-point field goals, and free throws.  PPGPointsPoints per game.  RPGReboundsRebounds per game.  TRB%Total Rebound PercentageTotal rebound percentage is estimated percentage of available rebounds grabbed by the player while the player is on the court.  APGAssistsAssists per game.  \\\n",
       "7  Giannis Antetokounmpo  Mil   F  27.53  12  37.3                                               77.7                                                                                         38.5                                                                                                                                          13.6                                                     134  0.679  244  0.537   41  0.22                                              0.507                                                                                                                                                 0.552                                                                                                                                        31.7                           14.2                                               19.5                                                                                                                                   6.8   \n",
       "\n",
       "   AST%Assist PercentageAssist percentage is an estimated percentage of teammate field goals a player assisted while the player is on the court  SPGStealsSteals per game.  BPGBlocksBlocks per game.  TOPGTurnoversTurnovers per game.  VIVersatility IndexVersatility index is a metric that measures a player’s ability to produce in points, assists, and rebounds. The average player will score around a five on the index, while top players score above 10  ORTGOffensive RatingIndividual offensive rating is the number of points produced by a player per 100 total individual possessions.  DRTGDefensive RatingIndividual defensive rating estimates how many points the player allowed per 100 possessions he individually faced while staying on the court.  \n",
       "7                                               37.0                                                                                                                  0.67                       1.33                               4.5                                               15.6                                                                                                                                                                                                                      107.9                                                                                                                                99.6                                                                                                                   "
      ]
     },
     "execution_count": 13,
     "metadata": {},
     "output_type": "execute_result"
    }
   ],
   "source": [
    "df[(df[\"FULL NAME\"] == \"Giannis Antetokounmpo\")]"
   ]
  },
  {
   "cell_type": "markdown",
   "id": "99b68a0f",
   "metadata": {},
   "source": [
    "#### How many players are over 30 years old?"
   ]
  },
  {
   "cell_type": "code",
   "execution_count": 15,
   "id": "85a6d54c",
   "metadata": {},
   "outputs": [
    {
     "data": {
      "text/plain": [
       "58"
      ]
     },
     "execution_count": 15,
     "metadata": {},
     "output_type": "execute_result"
    }
   ],
   "source": [
    "len(df[(df[\"AGE\"] > 30)])"
   ]
  },
  {
   "cell_type": "code",
   "execution_count": 164,
   "id": "6f5e8ff0",
   "metadata": {},
   "outputs": [
    {
     "data": {
      "text/plain": [
       "AGE\n",
       "False    159\n",
       "True      58\n",
       "Name: count, dtype: int64"
      ]
     },
     "execution_count": 164,
     "metadata": {},
     "output_type": "execute_result"
    }
   ],
   "source": [
    "(df[\"AGE\"] > 30).value_counts()"
   ]
  },
  {
   "cell_type": "markdown",
   "id": "7bf4001d",
   "metadata": {},
   "source": [
    "#### How many players of Milwaukee Bucks are in this DataFrame?"
   ]
  },
  {
   "cell_type": "code",
   "execution_count": 16,
   "id": "e17898dd",
   "metadata": {},
   "outputs": [
    {
     "data": {
      "text/plain": [
       "15"
      ]
     },
     "execution_count": 16,
     "metadata": {},
     "output_type": "execute_result"
    }
   ],
   "source": [
    "len(df[(df[\"TEAM\"] == \"Mil\")])"
   ]
  },
  {
   "cell_type": "code",
   "execution_count": 165,
   "id": "37dadc51",
   "metadata": {},
   "outputs": [
    {
     "data": {
      "text/plain": [
       "TEAM\n",
       "False    202\n",
       "True      15\n",
       "Name: count, dtype: int64"
      ]
     },
     "execution_count": 165,
     "metadata": {},
     "output_type": "execute_result"
    }
   ],
   "source": [
    "(df[\"TEAM\"] == \"Mil\").value_counts()"
   ]
  },
  {
   "cell_type": "markdown",
   "id": "95204302",
   "metadata": {},
   "source": [
    "#### How many players of Milwaukee Bucks are over 30 years old?"
   ]
  },
  {
   "cell_type": "code",
   "execution_count": 155,
   "id": "1b71efb0",
   "metadata": {},
   "outputs": [
    {
     "data": {
      "text/plain": [
       "6"
      ]
     },
     "execution_count": 155,
     "metadata": {},
     "output_type": "execute_result"
    }
   ],
   "source": [
    "len(df[(df[\"TEAM\"] == \"Mil\") & (df[\"AGE\"] > 30)])"
   ]
  },
  {
   "cell_type": "code",
   "execution_count": 195,
   "id": "d33b0202",
   "metadata": {},
   "outputs": [
    {
     "data": {
      "text/plain": [
       "FULL NAME        TEAM  POS  AGE    GP  MPG   MIN%Minutes PercentagePercentage of team minutes used by a player while he was on the floor  USG%Usage RateUsage rate, a.k.a., usage percentage is an estimate of the percentage of team plays used by a player while he was on the floor  TO%Turnover RateA metric that estimates the number of turnovers a player commits per 100 possessions  FTA  FT%    2PA  2P%    3PA  3P%    eFG%Effective Shooting PercentageWith eFG%, three-point shots made are worth 50% more than two-point shots made. eFG% Formula=(FGM+ (0.5 x 3PM))/FGA  TS%True Shooting PercentageTrue shooting percentage is a measure of shooting efficiency that takes into account field goals, 3-point field goals, and free throws.  PPGPointsPoints per game.  RPGReboundsRebounds per game.  TRB%Total Rebound PercentageTotal rebound percentage is estimated percentage of available rebounds grabbed by the player while the player is on the court.  APGAssistsAssists per game.  AST%Assist PercentageAssist percentage is an estimated percentage of teammate field goals a player assisted while the player is on the court  SPGStealsSteals per game.  BPGBlocksBlocks per game.  TOPGTurnoversTurnovers per game.  VIVersatility IndexVersatility index is a metric that measures a player’s ability to produce in points, assists, and rebounds. The average player will score around a five on the index, while top players score above 10  ORTGOffensive RatingIndividual offensive rating is the number of points produced by a player per 100 total individual possessions.  DRTGDefensive RatingIndividual defensive rating estimates how many points the player allowed per 100 possessions he individually faced while staying on the court.\n",
       "Brook Lopez      Mil   C    34.21  12  27.7  57.6                                                                                         16.1                                                                                                                                          8.9                                                                                                   23   0.913  74   0.595  28   0.214  0.520                                                                                                                                                 0.566                                                                                                                                                               10.6                       5.9                            11.0                                                                                                                                                        0.7                          3.7                                                                                                                                           0.50                       1.50                       0.92                              5.1                                                                                                                                                                                                                        117.3                                                                                                                               104.4                                                                                                                                                                 1\n",
       "George Hill      Mil   G    36.12  5   15.3  31.8                                                                                         3.9                                                                                                                                           14.5                                                                                                  2    1.000  3    0.000  2    0.500  0.300                                                                                                                                                 0.425                                                                                                                                                               1.0                        1.2                            4.0                                                                                                                                                         0.6                          5.0                                                                                                                                           0.00                       0.00                       0.20                              2.3                                                                                                                                                                                                                        103.7                                                                                                                               103.7                                                                                                                                                                 1\n",
       "Jrue Holiday     Mil   G    32.01  12  38.6  80.4                                                                                         26.4                                                                                                                                          12.0                                                                                                  31   0.839  156  0.410  79   0.316  0.432                                                                                                                                                 0.461                                                                                                                                                               19.1                       5.6                            7.4                                                                                                                                                         6.5                          27.6                                                                                                                                          1.75                       0.58                       2.83                              9.2                                                                                                                                                                                                                        97.7                                                                                                                                107.0                                                                                                                                                                 1\n",
       "Khris Middleton  Mil   F    30.85  2   35.8  74.5                                                                                         22.0                                                                                                                                          30.3                                                                                                  3    1.000  10   0.400  14   0.429  0.542                                                                                                                                                 0.573                                                                                                                                                               14.5                       5.0                            7.2                                                                                                                                                         7.0                          29.6                                                                                                                                          1.50                       0.00                       5.50                              8.9                                                                                                                                                                                                                        95.3                                                                                                                                104.6                                                                                                                                                                 1\n",
       "Wesley Matthews  Mil   G    35.67  12  28.7  59.8                                                                                         9.3                                                                                                                                           8.1                                                                                                   9    0.667  19   0.368  45   0.400  0.531                                                                                                                                                 0.544                                                                                                                                                               6.2                        3.1                            5.5                                                                                                                                                         1.2                          5.6                                                                                                                                           0.75                       0.25                       0.50                              4.0                                                                                                                                                                                                                        114.2                                                                                                                               107.3                                                                                                                                                                 1\n",
       "Name: count, dtype: int64"
      ]
     },
     "execution_count": 195,
     "metadata": {},
     "output_type": "execute_result"
    }
   ],
   "source": [
    "df[(df[\"TEAM\"] == \"Mil\") & (df[\"AGE\"] > 30)].value_counts()"
   ]
  },
  {
   "cell_type": "markdown",
   "id": "3f37b00a",
   "metadata": {},
   "source": [
    "#### Which players of Milwaukee Bucks were shooting with average over 50% in either 2P% or 3P%"
   ]
  },
  {
   "cell_type": "code",
   "execution_count": 18,
   "id": "5c85e592",
   "metadata": {},
   "outputs": [
    {
     "data": {
      "text/plain": [
       "112"
      ]
     },
     "execution_count": 18,
     "metadata": {},
     "output_type": "execute_result"
    }
   ],
   "source": [
    "len(df[(df[\"2P%\"] > 0.5) | (df[\"3P%\"] > 0.5)])"
   ]
  },
  {
   "cell_type": "code",
   "execution_count": 198,
   "id": "c58d9df9",
   "metadata": {},
   "outputs": [
    {
     "data": {
      "text/plain": [
       "FULL NAME                 TEAM  POS  AGE    GP  MPG   MIN%Minutes PercentagePercentage of team minutes used by a player while he was on the floor  USG%Usage RateUsage rate, a.k.a., usage percentage is an estimate of the percentage of team plays used by a player while he was on the floor  TO%Turnover RateA metric that estimates the number of turnovers a player commits per 100 possessions  FTA  FT%    2PA  2P%    3PA  3P%    eFG%Effective Shooting PercentageWith eFG%, three-point shots made are worth 50% more than two-point shots made. eFG% Formula=(FGM+ (0.5 x 3PM))/FGA  TS%True Shooting PercentageTrue shooting percentage is a measure of shooting efficiency that takes into account field goals, 3-point field goals, and free throws.  PPGPointsPoints per game.  RPGReboundsRebounds per game.  TRB%Total Rebound PercentageTotal rebound percentage is estimated percentage of available rebounds grabbed by the player while the player is on the court.  APGAssistsAssists per game.  AST%Assist PercentageAssist percentage is an estimated percentage of teammate field goals a player assisted while the player is on the court  SPGStealsSteals per game.  BPGBlocksBlocks per game.  TOPGTurnoversTurnovers per game.  VIVersatility IndexVersatility index is a metric that measures a player’s ability to produce in points, assists, and rebounds. The average player will score around a five on the index, while top players score above 10  ORTGOffensive RatingIndividual offensive rating is the number of points produced by a player per 100 total individual possessions.  DRTGDefensive RatingIndividual defensive rating estimates how many points the player allowed per 100 possessions he individually faced while staying on the court.\n",
       "Aaron Gordon              Den   F    26.75  5   32.0  66.8                                                                                         20.2                                                                                                                                          10.8                                                                                                  28   0.714  39   0.513  15   0.200  0.454                                                                                                                                                 0.520                                                                                                                                                               13.8                       7.2                            13.9                                                                                                                                                        2.6                          12.0                                                                                                                                          0.40                       1.20                       1.60                              8.0                                                                                                                                                                                                                        114.4                                                                                                                               108.5                                                                                                                                                                 1\n",
       "Moses Moody               Gol   G    20.05  13  8.1   16.8                                                                                         14.1                                                                                                                                          8.9                                                                                                   6    0.667  15   0.533  13   0.538  0.661                                                                                                                                                 0.669                                                                                                                                                               3.2                        0.6                            4.3                                                                                                                                                         0.3                          5.3                                                                                                                                           0.23                       0.23                       0.23                              4.1                                                                                                                                                                                                                        123.0                                                                                                                               110.9                                                                                                                                                                 1\n",
       "Otto Porter Jr.           Gol   F    29.04  19  19.5  40.7                                                                                         11.0                                                                                                                                          12.9                                                                                                  9    0.778  30   0.633  47   0.404  0.617                                                                                                                                                 0.630                                                                                                                                                               5.4                        3.4                            9.8                                                                                                                                                         1.8                          12.1                                                                                                                                          0.89                       0.32                       0.63                              6.6                                                                                                                                                                                                                        124.7                                                                                                                               101.1                                                                                                                                                                 1\n",
       "Onyeka Okongwu            Atl   F-C  21.51  5   21.6  44.9                                                                                         10.4                                                                                                                                          16.4                                                                                                  10   0.800  16   0.563  0    0.000  0.563                                                                                                                                                 0.637                                                                                                                                                               5.2                        5.4                            15.1                                                                                                                                                        0.4                          2.9                                                                                                                                           0.80                       0.80                       0.80                              4.1                                                                                                                                                                                                                        130.0                                                                                                                               97.5                                                                                                                                                                  1\n",
       "Omer Yurtseven            Mia   C    24.00  9   4.2   8.8                                                                                          22.8                                                                                                                                          0.0                                                                                                   3    0.333  16   0.750  2    0.000  0.667                                                                                                                                                 0.647                                                                                                                                                               2.8                        0.8                            10.9                                                                                                                                                        0.3                          16.7                                                                                                                                          0.00                       0.11                       0.00                              8.3                                                                                                                                                                                                                        131.5                                                                                                                               107.9                                                                                                                                                                 1\n",
       "OG Anunoby                Tor   F    24.92  6   36.1  75.2                                                                                         21.2                                                                                                                                          10.1                                                                                                  16   0.750  41   0.610  41   0.341  0.561                                                                                                                                                 0.584                                                                                                                                                               17.3                       4.0                            6.8                                                                                                                                                         2.5                          11.5                                                                                                                                          1.00                       0.17                       1.67                              6.2                                                                                                                                                                                                                        115.8                                                                                                                               108.2                                                                                                                                                                 1\n",
       "Nikola Vucevic            Chi   C    31.65  5   36.2  75.3                                                                                         24.5                                                                                                                                          7.9                                                                                                   5    0.800  49   0.551  42   0.310  0.511                                                                                                                                                 0.520                                                                                                                                                               19.4                       12.4                           17.2                                                                                                                                                        3.2                          16.5                                                                                                                                          0.40                       1.20                       1.60                              10.1                                                                                                                                                                                                                       108.1                                                                                                                               106.4                                                                                                                                                                 1\n",
       "Nikola Jokic              Den   C    27.32  5   34.2  71.3                                                                                         36.8                                                                                                                                          16.6                                                                                                  33   0.848  88   0.636  18   0.278  0.599                                                                                                                                                 0.643                                                                                                                                                               31.0                       13.2                           23.9                                                                                                                                                        5.8                          36.5                                                                                                                                          1.60                       1.00                       4.80                              15.6                                                                                                                                                                                                                       116.0                                                                                                                               98.4                                                                                                                                                                  1\n",
       "Nickeil Alexander-Walker  Uta   G    23.79  1   4.7   9.8                                                                                          24.4                                                                                                                                          0.0                                                                                                   1    1.000  2    1.000  0    0.000  1.000                                                                                                                                                 1.025                                                                                                                                                               5.0                        1.0                            12.4                                                                                                                                                        1.0                          70.1                                                                                                                                          1.00                       0.00                       0.00                              14.6                                                                                                                                                                                                                       214.3                                                                                                                               100.3                                                                                                                                                                 1\n",
       "Nic Claxton               Bro   F-C  23.17  4   24.5  51.0                                                                                         16.7                                                                                                                                          5.6                                                                                                   22   0.182  24   0.792  0    0.000  0.792                                                                                                                                                 0.624                                                                                                                                                               10.5                       6.3                            16.7                                                                                                                                                        1.5                          9.8                                                                                                                                           1.25                       2.25                       0.50                              7.6                                                                                                                                                                                                                        123.7                                                                                                                               107.9                                                                                                                                                                 1\n",
       "Nemanja Bjelica           Gol   F    34.10  15  10.0  20.8                                                                                         12.9                                                                                                                                          15.9                                                                                                  7    0.571  26   0.577  8    0.375  0.574                                                                                                                                                 0.580                                                                                                                                                               2.9                        2.1                            11.6                                                                                                                                                        1.1                          15.3                                                                                                                                          0.27                       0.13                       0.47                              7.5                                                                                                                                                                                                                        115.6                                                                                                                               96.1                                                                                                                                                                  1\n",
       "Naji Marshall             Nor   F    24.39  6   9.4   19.6                                                                                         11.3                                                                                                                                          20.3                                                                                                  4    1.000  10   0.700  0    0.000  0.700                                                                                                                                                 0.765                                                                                                                                                               3.0                        1.0                            6.3                                                                                                                                                         0.8                          12.9                                                                                                                                          0.17                       0.17                       0.50                              5.7                                                                                                                                                                                                                        135.1                                                                                                                               109.9                                                                                                                                                                 1\n",
       "Monte Morris              Den   G    26.97  5   31.1  64.9                                                                                         18.0                                                                                                                                          12.4                                                                                                  12   0.750  25   0.560  26   0.423  0.598                                                                                                                                                 0.622                                                                                                                                                               14.0                       2.2                            4.4                                                                                                                                                         5.4                          26.3                                                                                                                                          1.20                       0.00                       1.60                              7.1                                                                                                                                                                                                                        123.0                                                                                                                               107.8                                                                                                                                                                 1\n",
       "Jordan Poole              Gol   G    23.00  22  27.5  57.3                                                                                         24.5                                                                                                                                          15.7                                                                                                  71   0.915  126  0.627  128  0.391  0.606                                                                                                                                                 0.654                                                                                                                                                               17.0                       2.8                            5.7                                                                                                                                                         3.8                          21.1                                                                                                                                          0.82                       0.36                       2.41                              8.2                                                                                                                                                                                                                        117.3                                                                                                                               102.6                                                                                                                                                                 1\n",
       "Mikal Bridges             Pho   F    25.80  13  38.5  80.2                                                                                         14.9                                                                                                                                          6.8                                                                                                   30   0.933  105  0.505  33   0.394  0.525                                                                                                                                                 0.572                                                                                                                                                               13.3                       4.7                            7.1                                                                                                                                                         2.8                          10.2                                                                                                                                          1.08                       1.00                       0.85                              5.8                                                                                                                                                                                                                        119.5                                                                                                                               107.9                                                                                                                                                                 1\n",
       "Maxi Kleber               Dal   F    30.38  18  25.4  52.8                                                                                         13.1                                                                                                                                          8.7                                                                                                   21   0.714  28   0.714  78   0.436  0.670                                                                                                                                                 0.681                                                                                                                                                               8.7                        4.6                            10.5                                                                                                                                                        1.1                          6.9                                                                                                                                           0.22                       0.83                       0.61                              5.6                                                                                                                                                                                                                        130.5                                                                                                                               102.3                                                                                                                                                                 1\n",
       "Max Strus                 Mia   G-F  26.22  18  29.0  60.5                                                                                         17.9                                                                                                                                          9.5                                                                                                   18   0.722  40   0.525  142  0.331  0.503                                                                                                                                                 0.516                                                                                                                                                               10.9                       4.1                            8.3                                                                                                                                                         2.1                          11.0                                                                                                                                          0.78                       0.44                       1.11                              6.3                                                                                                                                                                                                                        104.5                                                                                                                               101.4                                                                                                                                                                 1\n",
       "Matisse Thybulle          Phi   G-F  25.29  9   15.2  31.7                                                                                         9.4                                                                                                                                           7.3                                                                                                   3    0.333  10   0.700  14   0.286  0.542                                                                                                                                                 0.533                                                                                                                                                               3.0                        1.0                            4.0                                                                                                                                                         0.4                          4.4                                                                                                                                           0.78                       0.78                       0.22                              2.8                                                                                                                                                                                                                        106.4                                                                                                                               103.8                                                                                                                                                                 1\n",
       "Malik Beasley             Min   G    25.55  6   19.9  41.4                                                                                         19.3                                                                                                                                          13.0                                                                                                  6    0.833  19   0.579  25   0.320  0.523                                                                                                                                                 0.547                                                                                                                                                               8.5                        3.3                            9.3                                                                                                                                                         0.7                          5.6                                                                                                                                           0.33                       0.17                       1.17                              5.4                                                                                                                                                                                                                        98.7                                                                                                                                109.1                                                                                                                                                                 1\n",
       "Luka Doncic               Dal   F-G  23.30  15  36.8  76.7                                                                                         40.4                                                                                                                                          12.5                                                                                                  135  0.770  204  0.534  148  0.345  0.527                                                                                                                                                 0.577                                                                                                                                                               31.7                       9.8                            15.5                                                                                                                                                        6.4                          37.3                                                                                                                                          1.80                       0.60                       3.93                              13.7                                                                                                                                                                                                                       109.8                                                                                                                               100.0                                                                                                                                                                 1\n",
       "Larry Nance Jr.           Nor   F-C  29.46  6   21.6  45.1                                                                                         16.5                                                                                                                                          12.0                                                                                                  11   0.818  30   0.667  9    0.222  0.590                                                                                                                                                 0.627                                                                                                                                                               9.2                        5.8                            15.9                                                                                                                                                        1.8                          13.2                                                                                                                                          0.50                       0.33                       1.00                              8.5                                                                                                                                                                                                                        131.3                                                                                                                               104.7                                                                                                                                                                 1\n",
       "Kyle Anderson             Mem   F-G  28.74  12  18.4  38.3                                                                                         12.8                                                                                                                                          14.5                                                                                                  18   0.611  39   0.667  12   0.250  0.598                                                                                                                                                 0.611                                                                                                                                                               6.0                        4.3                            12.4                                                                                                                                                        1.8                          13.7                                                                                                                                          0.92                       0.67                       0.83                              7.8                                                                                                                                                                                                                        119.9                                                                                                                               100.5                                                                                                                                                                 1\n",
       "Kevon Looney              Gol   F    26.36  22  20.4  42.4                                                                                         11.3                                                                                                                                          16.5                                                                                                  18   0.611  88   0.659  0    0.000  0.659                                                                                                                                                 0.662                                                                                                                                                               5.8                        7.6                            21.0                                                                                                                                                        2.2                          14.6                                                                                                                                          0.41                       0.45                       0.86                              9.0                                                                                                                                                                                                                        140.2                                                                                                                               97.8                                                                                                                                                                  1\n",
       "Kevin Knox II             Atl   F    22.85  2   4.6   9.6                                                                                          74.4                                                                                                                                          20.2                                                                                                  2    1.000  1    1.000  10   0.600  0.909                                                                                                                                                 0.926                                                                                                                                                               11.0                       1.0                            13.1                                                                                                                                                        0.0                          0.0                                                                                                                                           1.00                       0.00                       1.50                              0.0                                                                                                                                                                                                                        1019.8                                                                                                                              103.9                                                                                                                                                                 1\n",
       "P.J. Tucker               Mia   F    37.12  18  28.3  58.9                                                                                         11.3                                                                                                                                          10.1                                                                                                  16   0.688  58   0.534  51   0.451  0.601                                                                                                                                                 0.612                                                                                                                                                               7.9                        5.7                            11.8                                                                                                                                                        1.8                          9.2                                                                                                                                           0.78                       0.28                       0.72                              6.1                                                                                                                                                                                                                        128.2                                                                                                                               101.6                                                                                                                                                                 1\n",
       "Pascal Siakam             Tor   F    28.21  6   43.4  90.4                                                                                         24.2                                                                                                                                          9.6                                                                                                   36   0.861  90   0.522  17   0.235  0.495                                                                                                                                                 0.558                                                                                                                                                               22.8                       7.2                            10.1                                                                                                                                                        5.8                          22.8                                                                                                                                          1.17                       1.00                       2.17                              9.1                                                                                                                                                                                                                        117.9                                                                                                                               105.5                                                                                                                                                                 1\n",
       "Pat Connaughton           Mil   G    29.44  12  26.5  55.2                                                                                         13.2                                                                                                                                          7.2                                                                                                   5    1.000  24   0.708  64   0.391  0.619                                                                                                                                                 0.632                                                                                                                                                               9.5                        4.3                            8.2                                                                                                                                                         0.9                          5.2                                                                                                                                           0.42                       0.33                       0.58                              5.0                                                                                                                                                                                                                        120.4                                                                                                                               109.9                                                                                                                                                                 1\n",
       "Patrick Beverley          Min   G    33.93  6   32.3  67.2                                                                                         15.6                                                                                                                                          17.0                                                                                                  22   0.682  23   0.522  26   0.346  0.520                                                                                                                                                 0.562                                                                                                                                                               11.0                       3.2                            5.5                                                                                                                                                         4.8                          23.1                                                                                                                                          1.17                       1.17                       2.00                              6.8                                                                                                                                                                                                                        112.8                                                                                                                               102.5                                                                                                                                                                 1\n",
       "Zeke Nnaji                Den   F-C  21.44  2   4.3   9.0                                                                                          5.1                                                                                                                                           0.0                                                                                                   0    0.000  0    0.000  1    1.000  1.500                                                                                                                                                 1.500                                                                                                                                                               1.5                        0.0                            0.0                                                                                                                                                         0.0                          0.0                                                                                                                                           0.00                       0.00                       0.00                              0.0                                                                                                                                                                                                                        300.0                                                                                                                               96.1                                                                                                                                                                  1\n",
       "Xavier Tillman            Mem   F    23.43  9   15.5  32.2                                                                                         11.1                                                                                                                                          26.6                                                                                                  6    0.500  23   0.739  2    0.500  0.740                                                                                                                                                 0.724                                                                                                                                                               4.4                        3.2                            11.0                                                                                                                                                        0.7                          6.2                                                                                                                                           0.67                       0.11                       1.11                              5.5                                                                                                                                                                                                                        115.2                                                                                                                               101.5                                                                                                                                                                 1\n",
       "Vlatko Cancar             Den   F    25.19  2   4.3   9.0                                                                                          25.3                                                                                                                                          40.0                                                                                                  0    0.000  1    1.000  2    0.500  0.833                                                                                                                                                 0.833                                                                                                                                                               2.5                        1.0                            14.4                                                                                                                                                        0.5                          19.8                                                                                                                                          0.00                       0.00                       1.00                              10.0                                                                                                                                                                                                                       89.2                                                                                                                                116.0                                                                                                                                                                 1\n",
       "Tyrese Maxey              Phi   G    21.61  12  40.4  84.2                                                                                         21.8                                                                                                                                          9.3                                                                                                   50   0.940  113  0.549  69   0.377  0.555                                                                                                                                                 0.610                                                                                                                                                               20.8                       3.5                            5.3                                                                                                                                                         3.9                          17.0                                                                                                                                          0.75                       0.17                       1.75                              6.5                                                                                                                                                                                                                        118.8                                                                                                                               112.0                                                                                                                                                                 1\n",
       "Tyler Herro               Mia   G    22.41  15  25.4  52.9                                                                                         25.7                                                                                                                                          12.3                                                                                                  27   0.926  111  0.523  70   0.229  0.453                                                                                                                                                 0.490                                                                                                                                                               12.6                       3.8                            8.8                                                                                                                                                         2.8                          18.4                                                                                                                                          0.60                       0.40                       1.80                              8.1                                                                                                                                                                                                                        96.8                                                                                                                                106.9                                                                                                                                                                 1\n",
       "Tobias Harris             Phi   F    29.92  12  38.8  80.9                                                                                         19.1                                                                                                                                          9.5                                                                                                   22   0.864  105  0.562  57   0.386  0.568                                                                                                                                                 0.591                                                                                                                                                               16.9                       7.6                            12.0                                                                                                                                                        2.9                          13.0                                                                                                                                          1.08                       0.83                       1.50                              7.4                                                                                                                                                                                                                        113.9                                                                                                                               105.5                                                                                                                                                                 1\n",
       "Timothe Luwawu-Cabarrot   Atl   G-F  27.11  4   5.5   11.5                                                                                         10.4                                                                                                                                          20.0                                                                                                  0    0.000  1    1.000  3    0.333  0.625                                                                                                                                                 0.625                                                                                                                                                               1.3                        0.8                            8.2                                                                                                                                                         0.5                          14.5                                                                                                                                          0.00                       0.00                       0.25                              5.8                                                                                                                                                                                                                        110.3                                                                                                                               89.7                                                                                                                                                                  1\n",
       "Thaddeus Young            Tor   F    33.99  6   14.5  30.2                                                                                         12.2                                                                                                                                          13.2                                                                                                  4    0.250  11   0.727  7    0.143  0.528                                                                                                                                                 0.506                                                                                                                                                               3.3                        3.0                            12.7                                                                                                                                                        1.7                          16.9                                                                                                                                          0.83                       0.17                       0.50                              7.1                                                                                                                                                                                                                        116.6                                                                                                                               103.8                                                                                                                                                                 1\n",
       "Stephen Curry             Gol   G    34.26  22  34.7  72.3                                                                                         31.8                                                                                                                                          10.3                                                                                                  129  0.829  211  0.526  229  0.397  0.563                                                                                                                                                 0.606                                                                                                                                                               27.4                       5.2                            8.4                                                                                                                                                         5.9                          28.3                                                                                                                                          1.23                       0.36                       2.59                              10.9                                                                                                                                                                                                                       117.4                                                                                                                               103.7                                                                                                                                                                 1\n",
       "Skylar Mays               Atl   G    24.78  2   4.6   9.6                                                                                          5.0                                                                                                                                           0.0                                                                                                   0    0.000  1    1.000  0    0.000  1.000                                                                                                                                                 1.000                                                                                                                                                               1.0                        0.5                            6.6                                                                                                                                                         0.5                          17.9                                                                                                                                          0.50                       0.00                       0.00                              5.5                                                                                                                                                                                                                        208.4                                                                                                                               101.7                                                                                                                                                                 1\n",
       "Shake Milton              Phi   G-F  25.72  12  13.2  27.5                                                                                         15.4                                                                                                                                          9.7                                                                                                   20   0.800  23   0.435  15   0.533  0.579                                                                                                                                                 0.641                                                                                                                                                               5.0                        1.6                            7.3                                                                                                                                                         0.9                          10.9                                                                                                                                          0.50                       0.25                       0.42                              5.9                                                                                                                                                                                                                        126.9                                                                                                                               106.5                                                                                                                                                                 1\n",
       "Seth Curry                Bro   G    31.82  4   33.1  68.9                                                                                         15.0                                                                                                                                          6.9                                                                                                   3    0.667  16   0.625  23   0.522  0.718                                                                                                                                                 0.719                                                                                                                                                               14.5                       2.5                            4.9                                                                                                                                                         3.0                          13.9                                                                                                                                          0.25                       0.75                       0.75                              5.8                                                                                                                                                                                                                        139.7                                                                                                                               108.7                                                                                                                                                                 1\n",
       "Scottie Barnes            Tor   F    20.88  4   33.3  69.3                                                                                         18.9                                                                                                                                          9.3                                                                                                   16   0.813  30   0.533  12   0.167  0.452                                                                                                                                                 0.520                                                                                                                                                               12.8                       9.0                            16.6                                                                                                                                                        4.3                          19.7                                                                                                                                          1.00                       0.25                       1.25                              9.5                                                                                                                                                                                                                        117.4                                                                                                                               102.9                                                                                                                                                                 1\n",
       "Rudy Gobert               Uta   C    29.97  6   32.8  68.4                                                                                         14.4                                                                                                                                          13.3                                                                                                  44   0.682  33   0.636  0    0.000  0.636                                                                                                                                                 0.688                                                                                                                                                               12.0                       13.2                           23.3                                                                                                                                                        0.5                          2.4                                                                                                                                           0.17                       1.00                       1.33                              5.2                                                                                                                                                                                                                        136.7                                                                                                                               100.7                                                                                                                                                                 1\n",
       "Royce O'Neale             Uta   F    29.03  6   31.4  65.3                                                                                         9.7                                                                                                                                           7.7                                                                                                   2    1.000  10   0.700  25   0.280  0.500                                                                                                                                                 0.516                                                                                                                                                               6.2                        5.7                            10.5                                                                                                                                                        1.5                          7.3                                                                                                                                           0.50                       0.17                       0.50                              4.8                                                                                                                                                                                                                        115.6                                                                                                                               105.3                                                                                                                                                                 1\n",
       "Robert Williams III       Bos   C-F  24.67  17  23.2  48.3                                                                                         11.5                                                                                                                                          10.0                                                                                                  28   0.893  77   0.688  1    0.000  0.679                                                                                                                                                 0.725                                                                                                                                                               7.7                        6.2                            15.2                                                                                                                                                        1.0                          6.8                                                                                                                                           0.65                       2.24                       0.59                              6.3                                                                                                                                                                                                                        149.3                                                                                                                               100.6                                                                                                                                                                 1\n",
       "Precious Achiuwa          Tor   F    22.74  6   27.8  57.8                                                                                         18.2                                                                                                                                          13.8                                                                                                  10   0.600  36   0.556  16   0.313  0.529                                                                                                                                                 0.541                                                                                                                                                               10.2                       4.8                            10.7                                                                                                                                                        1.0                          5.7                                                                                                                                           0.17                       0.83                       1.50                              5.3                                                                                                                                                                                                                        103.3                                                                                                                               107.9                                                                                                                                                                 1\n",
       "Payton Pritchard          Bos   G    24.38  24  12.9  26.8                                                                                         16.6                                                                                                                                          7.9                                                                                                   6    0.667  30   0.633  72   0.333  0.539                                                                                                                                                 0.545                                                                                                                                                               4.8                        1.9                            8.4                                                                                                                                                         1.6                          19.7                                                                                                                                          0.25                       0.08                       0.38                              7.6                                                                                                                                                                                                                        117.1                                                                                                                               104.0                                                                                                                                                                 1\n",
       "Paul Reed                 Phi   F    23.01  12  11.6  24.2                                                                                         16.2                                                                                                                                          18.7                                                                                                  7    0.571  33   0.515  3    0.667  0.556                                                                                                                                                 0.563                                                                                                                                                               3.7                        3.9                            20.6                                                                                                                                                        0.8                          11.6                                                                                                                                          0.75                       0.50                       0.75                              7.8                                                                                                                                                                                                                        118.7                                                                                                                               88.3                                                                                                                                                                  1\n",
       "Patty Mills               Bro   G    33.85  4   18.1  37.7                                                                                         10.8                                                                                                                                          5.9                                                                                                   0    0.000  3    0.667  13   0.538  0.781                                                                                                                                                 0.781                                                                                                                                                               6.3                        1.0                            3.6                                                                                                                                                         0.0                          0.0                                                                                                                                           0.00                       0.25                       0.25                              0.0                                                                                                                                                                                                                        137.4                                                                                                                               114.3                                                                                                                                                                 1\n",
       "Patrick Williams          Chi   F    20.81  5   30.6  63.7                                                                                         16.9                                                                                                                                          11.9                                                                                                  11   0.727  26   0.577  21   0.333  0.543                                                                                                                                                 0.569                                                                                                                                                               11.8                       5.4                            8.9                                                                                                                                                         0.8                          4.3                                                                                                                                           1.00                       0.60                       1.40                              4.8                                                                                                                                                                                                                        106.5                                                                                                                               106.0                                                                                                                                                                 1\n",
       "Jose Alvarado             Nor   G    24.18  6   19.5  40.6                                                                                         16.8                                                                                                                                          15.3                                                                                                  13   0.769  17   0.588  16   0.375  0.576                                                                                                                                                 0.620                                                                                                                                                               8.0                        1.3                            4.0                                                                                                                                                         1.5                          11.4                                                                                                                                          1.17                       0.17                       1.17                              5.1                                                                                                                                                                                                                        114.2                                                                                                                               99.9                                                                                                                                                                  1\n",
       "Jordan McLaughlin         Min   G    26.19  5   16.6  34.6                                                                                         10.7                                                                                                                                          9.6                                                                                                   4    0.750  10   0.800  7    0.571  0.824                                                                                                                                                 0.826                                                                                                                                                               6.2                        2.4                            8.0                                                                                                                                                         3.4                          33.4                                                                                                                                          1.00                       0.00                       0.40                              8.9                                                                                                                                                                                                                        165.3                                                                                                                               108.5                                                                                                                                                                 1\n",
       "Al Horford                Bos   C-F  36.04  23  35.4  73.8                                                                                         13.1                                                                                                                                          12.2                                                                                                  36   0.778  95   0.568  98   0.480  0.645                                                                                                                                                 0.663                                                                                                                                                               12.0                       9.3                            14.8                                                                                                                                                        3.3                          14.6                                                                                                                                          0.83                       1.35                       1.26                              8.1                                                                                                                                                                                                                        129.9                                                                                                                               100.0                                                                                                                                                                 1\n",
       "Chris Boucher             Tor   F-C  29.43  6   21.6  45.1                                                                                         17.3                                                                                                                                          4.1                                                                                                   10   0.900  27   0.741  15   0.400  0.690                                                                                                                                                 0.722                                                                                                                                                               11.2                       5.8                            16.6                                                                                                                                                        0.2                          1.3                                                                                                                                           0.17                       1.17                       0.33                              4.4                                                                                                                                                                                                                        147.5                                                                                                                               104.3                                                                                                                                                                 1\n",
       "Derrick Jones Jr.         Chi   F    25.33  5   11.8  24.6                                                                                         15.8                                                                                                                                          14.1                                                                                                  3    0.667  6    0.667  11   0.273  0.500                                                                                                                                                 0.519                                                                                                                                                               3.8                        1.4                            5.9                                                                                                                                                         0.4                          5.3                                                                                                                                           0.20                       0.00                       0.60                              4.4                                                                                                                                                                                                                        99.5                                                                                                                                104.8                                                                                                                                                                 1\n",
       "Delon Wright              Atl   G    30.14  5   27.4  57.0                                                                                         12.8                                                                                                                                          13.2                                                                                                  9    0.667  16   0.625  13   0.385  0.603                                                                                                                                                 0.622                                                                                                                                                               8.2                        4.8                            10.6                                                                                                                                                        2.8                          16.8                                                                                                                                          0.80                       0.20                       1.00                              7.0                                                                                                                                                                                                                        131.9                                                                                                                               117.4                                                                                                                                                                 1\n",
       "Deandre Ayton             Pho   C    23.90  13  30.5  63.6                                                                                         22.9                                                                                                                                          9.6                                                                                                   33   0.636  160  0.644  4    0.500  0.646                                                                                                                                                 0.653                                                                                                                                                               17.9                       8.9                            17.1                                                                                                                                                        1.7                          9.3                                                                                                                                           0.38                       0.77                       1.46                              8.5                                                                                                                                                                                                                        124.1                                                                                                                               102.7                                                                                                                                                                 1\n",
       "DeMarcus Cousins          Den   C    31.84  5   11.4  23.7                                                                                         32.6                                                                                                                                          16.4                                                                                                  15   0.733  23   0.652  6    0.667  0.724                                                                                                                                                 0.744                                                                                                                                                               10.6                       3.4                            18.5                                                                                                                                                        1.2                          21.7                                                                                                                                          0.60                       0.20                       1.40                              12.3                                                                                                                                                                                                                       123.2                                                                                                                               94.4                                                                                                                                                                  1\n",
       "DeAndre Jordan            Phi   C    33.90  3   10.2  21.3                                                                                         10.7                                                                                                                                          28.6                                                                                                  0    0.000  5    1.000  0    0.000  1.000                                                                                                                                                 1.000                                                                                                                                                               3.3                        2.3                            14.0                                                                                                                                                        0.3                          5.5                                                                                                                                           0.00                       0.67                       0.67                              5.2                                                                                                                                                                                                                        133.1                                                                                                                               100.4                                                                                                                                                                 1\n",
       "De'Andre Hunter           Atl   F-G  24.54  5   34.9  72.8                                                                                         23.7                                                                                                                                          12.2                                                                                                  20   0.800  44   0.614  26   0.462  0.643                                                                                                                                                 0.673                                                                                                                                                               21.2                       3.8                            6.6                                                                                                                                                         0.6                          3.5                                                                                                                                           0.80                       0.20                       2.20                              4.2                                                                                                                                                                                                                        115.2                                                                                                                               106.7                                                                                                                                                                 1\n",
       "Davis Bertans             Dal   F    29.59  18  10.7  22.3                                                                                         15.6                                                                                                                                          4.7                                                                                                   12   0.833  4    0.750  51   0.373  0.573                                                                                                                                                 0.606                                                                                                                                                               4.1                        1.4                            7.9                                                                                                                                                         0.3                          4.9                                                                                                                                           0.44                       0.11                       0.17                              4.5                                                                                                                                                                                                                        121.2                                                                                                                               98.6                                                                                                                                                                  1\n",
       "Danuel House Jr.          Uta   F-G  29.03  6   18.6  38.8                                                                                         13.2                                                                                                                                          19.0                                                                                                  8    0.750  12   0.583  10   0.200  0.455                                                                                                                                                 0.509                                                                                                                                                               4.3                        2.8                            8.9                                                                                                                                                         0.7                          5.5                                                                                                                                           0.00                       0.17                       1.00                              4.4                                                                                                                                                                                                                        93.7                                                                                                                                109.1                                                                                                                                                                 1\n",
       "Daniel Theis              Bos   F-C  30.20  16  12.5  26.0                                                                                         14.7                                                                                                                                          16.8                                                                                                  8    0.750  37   0.730  14   0.214  0.618                                                                                                                                                 0.633                                                                                                                                                               4.3                        3.3                            14.6                                                                                                                                                        0.7                          8.9                                                                                                                                           0.25                       0.50                       0.69                              6.9                                                                                                                                                                                                                        115.8                                                                                                                               95.8                                                                                                                                                                  1\n",
       "Chris Paul                Pho   G    37.12  13  34.4  71.7                                                                                         20.8                                                                                                                                          15.3                                                                                                  37   0.946  106  0.642  49   0.388  0.623                                                                                                                                                 0.666                                                                                                                                                               17.5                       4.2                            7.1                                                                                                                                                         8.3                          36.4                                                                                                                                          1.46                       0.15                       2.38                              9.9                                                                                                                                                                                                                        129.5                                                                                                                               103.7                                                                                                                                                                 1\n",
       "Cameron Johnson           Pho   F    26.29  13  24.6  51.3                                                                                         18.0                                                                                                                                          9.6                                                                                                   32   0.813  40   0.600  59   0.373  0.576                                                                                                                                                 0.619                                                                                                                                                               10.8                       3.5                            8.4                                                                                                                                                         1.5                          8.7                                                                                                                                           0.38                       0.08                       0.92                              6.2                                                                                                                                                                                                                        120.1                                                                                                                               104.2                                                                                                                                                                 1\n",
       "Jordan Clarkson           Uta   G    30.03  6   28.4  59.1                                                                                         25.1                                                                                                                                          11.0                                                                                                  18   0.889  49   0.633  24   0.375  0.610                                                                                                                                                 0.649                                                                                                                                                               17.5                       3.2                            6.5                                                                                                                                                         1.3                          9.5                                                                                                                                           0.50                       0.17                       1.67                              5.9                                                                                                                                                                                                                        120.4                                                                                                                               105.4                                                                                                                                                                 1\n",
       "Bruce Brown               Bro   G-F  25.84  4   34.7  72.2                                                                                         16.7                                                                                                                                          17.9                                                                                                  10   0.800  23   0.652  14   0.429  0.649                                                                                                                                                 0.676                                                                                                                                                               14.0                       4.8                            9.0                                                                                                                                                         2.8                          11.9                                                                                                                                          1.25                       0.75                       2.25                              6.6                                                                                                                                                                                                                        120.2                                                                                                                               105.8                                                                                                                                                                 1\n",
       "Brook Lopez               Mil   C    34.21  12  27.7  57.6                                                                                         16.1                                                                                                                                          8.9                                                                                                   23   0.913  74   0.595  28   0.214  0.520                                                                                                                                                 0.566                                                                                                                                                               10.6                       5.9                            11.0                                                                                                                                                        0.7                          3.7                                                                                                                                           0.50                       1.50                       0.92                              5.1                                                                                                                                                                                                                        117.3                                                                                                                               104.4                                                                                                                                                                 1\n",
       "Brandon Clarke            Mem   F    25.74  12  24.7  51.5                                                                                         17.4                                                                                                                                          8.7                                                                                                   54   0.667  90   0.622  1    0.000  0.615                                                                                                                                                 0.645                                                                                                                                                               12.3                       6.9                            14.8                                                                                                                                                        2.0                          12.7                                                                                                                                          0.75                       0.83                       0.92                              9.0                                                                                                                                                                                                                        134.6                                                                                                                               105.0                                                                                                                                                                 1\n",
       "Bojan Bogdanovic          Uta   F    33.16  6   35.7  74.4                                                                                         22.7                                                                                                                                          11.6                                                                                                  24   0.792  48   0.583  33   0.333  0.549                                                                                                                                                 0.590                                                                                                                                                               18.0                       4.2                            6.8                                                                                                                                                         1.7                          8.5                                                                                                                                           0.33                       0.00                       2.00                              5.7                                                                                                                                                                                                                        110.8                                                                                                                               104.0                                                                                                                                                                 1\n",
       "Bismack Biyombo           Pho   C    29.80  9   9.5   19.9                                                                                         13.7                                                                                                                                          23.4                                                                                                  6    0.500  17   0.647  0    0.000  0.647                                                                                                                                                 0.636                                                                                                                                                               2.8                        2.1                            12.9                                                                                                                                                        0.6                          8.0                                                                                                                                           0.11                       0.22                       0.67                              6.4                                                                                                                                                                                                                        113.6                                                                                                                               97.9                                                                                                                                                                  1\n",
       "Bam Adebayo               Mia   C-F  24.92  18  34.1  71.0                                                                                         17.9                                                                                                                                          15.4                                                                                                  76   0.763  174  0.598  1    0.000  0.594                                                                                                                                                 0.638                                                                                                                                                               14.8                       8.0                            13.8                                                                                                                                                        2.7                          12.6                                                                                                                                          1.00                       0.72                       2.11                              8.0                                                                                                                                                                                                                        119.8                                                                                                                               101.2                                                                                                                                                                 1\n",
       "Austin Rivers             Den   G    29.87  5   21.7  45.2                                                                                         9.0                                                                                                                                           17.8                                                                                                  1    1.000  6    0.667  12   0.333  0.556                                                                                                                                                 0.569                                                                                                                                                               4.2                        0.6                            1.7                                                                                                                                                         1.2                          7.4                                                                                                                                           1.40                       0.20                       0.80                              2.7                                                                                                                                                                                                                        100.7                                                                                                                               101.7                                                                                                                                                                 1\n",
       "Anthony Edwards           Min   G    20.87  6   37.8  78.8                                                                                         26.4                                                                                                                                          10.7                                                                                                  34   0.824  53   0.509  57   0.404  0.559                                                                                                                                                 0.604                                                                                                                                                               25.2                       4.2                            6.1                                                                                                                                                         3.0                          14.8                                                                                                                                          1.17                       1.17                       2.50                              7.2                                                                                                                                                                                                                        113.8                                                                                                                               107.7                                                                                                                                                                 1\n",
       "Andrew Wiggins            Gol   F    27.31  22  34.9  72.6                                                                                         20.8                                                                                                                                          8.3                                                                                                   65   0.646  200  0.540  105  0.333  0.526                                                                                                                                                 0.544                                                                                                                                                               16.5                       7.5                            12.1                                                                                                                                                        1.8                          7.7                                                                                                                                           1.05                       1.05                       1.36                              6.9                                                                                                                                                                                                                        110.2                                                                                                                               104.5                                                                                                                                                                 1\n",
       "Andre Drummond            Bro   C    28.85  4   15.0  31.2                                                                                         14.7                                                                                                                                          31.3                                                                                                  5    0.600  11   0.545  0    0.000  0.545                                                                                                                                                 0.568                                                                                                                                                               3.8                        3.0                            13.1                                                                                                                                                        0.8                          7.0                                                                                                                                           1.25                       0.75                       1.50                              5.6                                                                                                                                                                                                                        89.5                                                                                                                                91.6                                                                                                                                                                  1\n",
       "Dewayne Dedmon            Mia   C    32.85  14  9.8   20.5                                                                                         18.6                                                                                                                                          12.2                                                                                                  12   0.833  35   0.571  10   0.100  0.478                                                                                                                                                 0.527                                                                                                                                                               3.8                        3.0                            18.0                                                                                                                                                        0.4                          5.7                                                                                                                                           0.07                       0.21                       0.50                              6.8                                                                                                                                                                                                                        109.7                                                                                                                               81.8                                                                                                                                                                  1\n",
       "Donovan Mitchell          Uta   G    25.77  6   38.3  79.7                                                                                         34.2                                                                                                                                          9.6                                                                                                   42   0.881  85   0.506  48   0.208  0.436                                                                                                                                                 0.505                                                                                                                                                               25.5                       4.3                            6.6                                                                                                                                                         5.7                          29.7                                                                                                                                          0.67                       0.50                       2.67                              8.9                                                                                                                                                                                                                        107.4                                                                                                                               109.5                                                                                                                                                                 1\n",
       "Dorian Finney-Smith       Dal   F    29.12  18  38.2  79.6                                                                                         12.8                                                                                                                                          9.7                                                                                                   24   0.708  49   0.571  108  0.426  0.618                                                                                                                                                 0.630                                                                                                                                                               11.7                       5.5                            8.4                                                                                                                                                         1.9                          7.8                                                                                                                                           0.94                       0.39                       1.00                              5.2                                                                                                                                                                                                                        125.2                                                                                                                               106.2                                                                                                                                                                 1\n",
       "Draymond Green            Gol   F    32.29  22  32.0  66.6                                                                                         14.0                                                                                                                                          26.4                                                                                                  47   0.638  105  0.581  39   0.205  0.507                                                                                                                                                 0.534                                                                                                                                                               8.0                        7.3                            12.8                                                                                                                                                        6.3                          25.7                                                                                                                                          1.14                       1.00                       2.68                              9.0                                                                                                                                                                                                                        106.8                                                                                                                               96.6                                                                                                                                                                  1\n",
       "Jonathan Kuminga          Gol   F    19.70  16  8.6   17.9                                                                                         26.3                                                                                                                                          13.3                                                                                                  26   0.769  47   0.574  13   0.231  0.525                                                                                                                                                 0.581                                                                                                                                                               5.2                        1.7                            11.0                                                                                                                                                        0.5                          9.0                                                                                                                                           0.19                       0.13                       0.69                              7.6                                                                                                                                                                                                                        105.6                                                                                                                               103.3                                                                                                                                                                 1\n",
       "Jonas Valanciunas         Nor   C    30.11  6   29.1  60.6                                                                                         22.5                                                                                                                                          13.1                                                                                                  26   0.769  62   0.516  6    0.167  0.493                                                                                                                                                 0.548                                                                                                                                                               14.5                       14.3                           29.1                                                                                                                                                        3.0                          16.5                                                                                                                                          0.67                       0.17                       2.00                              11.7                                                                                                                                                                                                                       119.0                                                                                                                               102.0                                                                                                                                                                 1\n",
       "John Collins              Atl   F-C  24.73  5   24.3  50.7                                                                                         18.3                                                                                                                                          10.3                                                                                                  10   0.500  28   0.536  11   0.364  0.538                                                                                                                                                 0.541                                                                                                                                                               9.4                        4.6                            11.4                                                                                                                                                        1.2                          8.8                                                                                                                                           0.40                       0.20                       1.00                              6.1                                                                                                                                                                                                                        103.3                                                                                                                               106.8                                                                                                                                                                 1\n",
       "Joel Embiid               Phi   C-F  28.26  10  38.5  80.3                                                                                         28.3                                                                                                                                          13.8                                                                                                  89   0.820  128  0.555  33   0.212  0.506                                                                                                                                                 0.590                                                                                                                                                               23.6                       10.7                           17.0                                                                                                                                                        2.1                          9.9                                                                                                                                           0.40                       0.80                       3.20                              8.4                                                                                                                                                                                                                        110.0                                                                                                                               103.7                                                                                                                                                                 1\n",
       "Jimmy Butler              Mia   F    32.76  17  37.0  77.1                                                                                         29.0                                                                                                                                          5.9                                                                                                   132  0.841  260  0.550  68   0.338  0.541                                                                                                                                                 0.604                                                                                                                                                               27.4                       7.3                            11.6                                                                                                                                                        4.6                          23.5                                                                                                                                          2.06                       0.65                       1.41                              10.5                                                                                                                                                                                                                       126.8                                                                                                                               106.5                                                                                                                                                                 1\n",
       "Jaylen Nowell             Min   G    22.94  1   11.9  24.8                                                                                         36.0                                                                                                                                          0.0                                                                                                   0    0.000  5    0.600  5    0.000  0.300                                                                                                                                                 0.300                                                                                                                                                               6.0                        0.0                            0.0                                                                                                                                                         1.0                          16.6                                                                                                                                          1.00                       0.00                       0.00                              0.0                                                                                                                                                                                                                        69.9                                                                                                                                109.0                                                                                                                                                                 1\n",
       "Jaylen Brown              Bos   G-F  25.64  24  38.3  79.8                                                                                         26.9                                                                                                                                          13.4                                                                                                  131  0.763  258  0.531  161  0.373  0.542                                                                                                                                                 0.581                                                                                                                                                               23.1                       6.9                            10.1                                                                                                                                                        3.5                          16.8                                                                                                                                          1.17                       0.42                       3.08                              8.6                                                                                                                                                                                                                        108.2                                                                                                                               102.2                                                                                                                                                                 1\n",
       "Jaxson Hayes              Nor   C-F  22.07  6   13.8  28.8                                                                                         17.6                                                                                                                                          11.8                                                                                                  11   0.636  22   0.636  3    0.000  0.560                                                                                                                                                 0.586                                                                                                                                                               5.8                        2.5                            10.7                                                                                                                                                        0.2                          1.9                                                                                                                                           0.00                       0.33                       0.67                              4.1                                                                                                                                                                                                                        109.4                                                                                                                               104.0                                                                                                                                                                 1\n",
       "Jalen Brunson             Dal   G    25.79  18  35.0  72.8                                                                                         27.8                                                                                                                                          5.1                                                                                                   90   0.800  236  0.504  75   0.347  0.508                                                                                                                                                 0.553                                                                                                                                                               21.6                       4.6                            7.7                                                                                                                                                         3.7                          20.0                                                                                                                                          0.78                       0.06                       1.06                              8.2                                                                                                                                                                                                                        115.0                                                                                                                               108.0                                                                                                                                                                 1\n",
       "Jae Crowder               Pho   F    31.95  13  29.5  61.4                                                                                         16.2                                                                                                                                          14.0                                                                                                  26   0.731  42   0.548  63   0.302  0.490                                                                                                                                                 0.524                                                                                                                                                               9.4                        4.7                            9.3                                                                                                                                                         2.4                          10.8                                                                                                                                          1.00                       0.54                       1.46                              6.4                                                                                                                                                                                                                        102.2                                                                                                                               99.4                                                                                                                                                                  1\n",
       "Jaden McDaniels           Min   F    21.71  6   21.7  45.1                                                                                         14.9                                                                                                                                          13.3                                                                                                  12   0.833  14   0.571  20   0.500  0.676                                                                                                                                                 0.713                                                                                                                                                               9.3                        2.8                            7.3                                                                                                                                                         0.7                          5.0                                                                                                                                           0.33                       1.83                       1.00                              4.9                                                                                                                                                                                                                        127.4                                                                                                                               103.8                                                                                                                                                                 1\n",
       "JaVale McGee              Pho   C-F  34.41  12  11.1  23.2                                                                                         22.3                                                                                                                                          13.9                                                                                                  13   0.846  49   0.714  1    0.000  0.700                                                                                                                                                 0.727                                                                                                                                                               6.8                        4.0                            21.0                                                                                                                                                        0.6                          8.8                                                                                                                                           0.25                       0.42                       0.75                              9.1                                                                                                                                                                                                                        132.7                                                                                                                               88.0                                                                                                                                                                  1\n",
       "Grayson Allen             Mil   G    26.69  12  25.4  53.0                                                                                         13.6                                                                                                                                          9.4                                                                                                   11   0.636  34   0.529  48   0.396  0.567                                                                                                                                                 0.576                                                                                                                                                               8.3                        2.9                            5.9                                                                                                                                                         1.3                          7.2                                                                                                                                           0.67                       0.33                       0.75                              5.0                                                                                                                                                                                                                        112.0                                                                                                                               107.6                                                                                                                                                                 1\n",
       "Gorgui Dieng              Atl   C    32.41  2   5.2   10.8                                                                                         10.8                                                                                                                                          0.0                                                                                                   1    1.000  1    1.000  1    0.000  0.500                                                                                                                                                 0.615                                                                                                                                                               1.5                        1.5                            17.4                                                                                                                                                        0.0                          0.0                                                                                                                                           0.00                       0.00                       0.00                              0.0                                                                                                                                                                                                                        147.4                                                                                                                               118.2                                                                                                                                                                 1\n",
       "Goran Dragic              Bro   G    36.12  4   19.8  41.3                                                                                         22.0                                                                                                                                          13.2                                                                                                  2    1.000  20   0.700  12   0.333  0.625                                                                                                                                                 0.639                                                                                                                                                               10.5                       4.5                            14.8                                                                                                                                                        1.5                          12.8                                                                                                                                          0.75                       0.00                       1.25                              8.4                                                                                                                                                                                                                        119.3                                                                                                                               101.2                                                                                                                                                                 1\n",
       "Giannis Antetokounmpo     Mil   F    27.53  12  37.3  77.7                                                                                         38.5                                                                                                                                          13.6                                                                                                  134  0.679  244  0.537  41   0.220  0.507                                                                                                                                                 0.552                                                                                                                                                               31.7                       14.2                           19.5                                                                                                                                                        6.8                          37.0                                                                                                                                          0.67                       1.33                       4.50                              15.6                                                                                                                                                                                                                       107.9                                                                                                                               99.6                                                                                                                                                                  1\n",
       "Georges Niang             Phi   F    29.00  12  16.5  34.4                                                                                         13.3                                                                                                                                          12.5                                                                                                  2    1.000  5    0.800  43   0.372  0.583                                                                                                                                                 0.593                                                                                                                                                               4.8                        1.5                            5.6                                                                                                                                                         0.9                          8.5                                                                                                                                           0.25                       0.00                       0.58                              4.5                                                                                                                                                                                                                        110.9                                                                                                                               100.9                                                                                                                                                                 1\n",
       "Gary Payton II            Gol   G    29.54  12  17.0  35.3                                                                                         12.5                                                                                                                                          10.4                                                                                                  18   0.667  29   0.724  15   0.533  0.750                                                                                                                                                 0.751                                                                                                                                                               6.5                        3.1                            10.2                                                                                                                                                        1.3                          10.9                                                                                                                                          1.17                       0.58                       0.50                              7.0                                                                                                                                                                                                                        145.8                                                                                                                               97.8                                                                                                                                                                  1\n",
       "Furkan Korkmaz            Phi   G-F  24.90  9   6.8   14.2                                                                                         19.8                                                                                                                                          7.7                                                                                                   2    1.000  13   0.538  10   0.400  0.565                                                                                                                                                 0.586                                                                                                                                                               3.1                        1.3                            11.9                                                                                                                                                        0.4                          11.3                                                                                                                                          0.11                       0.11                       0.22                              6.9                                                                                                                                                                                                                        113.1                                                                                                                               101.8                                                                                                                                                                 1\n",
       "Dwight Powell             Dal   F-C  30.91  18  13.8  28.8                                                                                         10.3                                                                                                                                          16.6                                                                                                  23   0.609  33   0.667  2    0.000  0.629                                                                                                                                                 0.643                                                                                                                                                               3.2                        2.6                            11.0                                                                                                                                                        0.2                          2.4                                                                                                                                           0.17                       0.33                       0.50                              3.4                                                                                                                                                                                                                        122.3                                                                                                                               96.9                                                                                                                                                                  1\n",
       "Duncan Robinson           Mia   F    28.15  13  12.3  25.5                                                                                         17.5                                                                                                                                          4.8                                                                                                   6    0.833  10   0.700  47   0.383  0.596                                                                                                                                                 0.612                                                                                                                                                               5.6                        1.8                            8.5                                                                                                                                                         0.4                          4.9                                                                                                                                           0.31                       0.08                       0.23                              5.2                                                                                                                                                                                                                        118.4                                                                                                                               97.1                                                                                                                                                                  1\n",
       "Ziaire Williams           Mem   F    20.76  10  16.8  34.9                                                                                         14.6                                                                                                                                          3.3                                                                                                   13   0.923  16   0.750  36   0.306  0.548                                                                                                                                                 0.598                                                                                                                                                               6.9                        1.7                            5.4                                                                                                                                                         0.5                          4.3                                                                                                                                           0.50                       0.00                       0.20                              4.3                                                                                                                                                                                                                        127.1                                                                                                                               106.7                                                                                                                                                                 1\n",
       "Name: count, dtype: int64"
      ]
     },
     "execution_count": 198,
     "metadata": {},
     "output_type": "execute_result"
    }
   ],
   "source": [
    "(df[(df[\"2P%\"] > 0.5) | (df[\"3P%\"] > 0.5)]).value_counts()"
   ]
  },
  {
   "cell_type": "markdown",
   "id": "3b9f2bda",
   "metadata": {},
   "source": [
    "#### Get Milwaukee Bucks' average free throws (FT%) "
   ]
  },
  {
   "cell_type": "code",
   "execution_count": 136,
   "id": "6a089a98",
   "metadata": {},
   "outputs": [
    {
     "name": "stdout",
     "output_type": "stream",
     "text": [
      "0.6226666666666667\n"
     ]
    }
   ],
   "source": [
    "df1 = df[(df[\"TEAM\"] == \"Mil\")]\n",
    "sum(df1[\"FT%\"])/len(df1[\"FT%\"]) # original answer\n",
    "# sum(df1[\"FT%\"])/len(df1) also works"
   ]
  },
  {
   "cell_type": "code",
   "execution_count": 151,
   "id": "0147a889",
   "metadata": {},
   "outputs": [
    {
     "data": {
      "text/plain": [
       "0.6226666666666667"
      ]
     },
     "execution_count": 151,
     "metadata": {},
     "output_type": "execute_result"
    }
   ],
   "source": [
    "df[(df['TEAM'] == 'Mil')]['FT%'].mean()"
   ]
  },
  {
   "cell_type": "markdown",
   "id": "599c8581",
   "metadata": {},
   "source": [
    "#### Get the average free throws per team\n",
    "Hint: pandas has a method for finding the mean. "
   ]
  },
  {
   "cell_type": "code",
   "execution_count": 163,
   "id": "690676fb",
   "metadata": {},
   "outputs": [
    {
     "data": {
      "text/plain": [
       "TEAM\n",
       "Atl    0.578929\n",
       "Bos    0.689267\n",
       "Bro    0.512000\n",
       "Chi    0.524500\n",
       "Dal    0.781500\n",
       "Den    0.628385\n",
       "Gol    0.687500\n",
       "Mem    0.725231\n",
       "Mia    0.628786\n",
       "Mil    0.622667\n",
       "Min    0.622231\n",
       "Nor    0.663500\n",
       "Phi    0.481400\n",
       "Pho    0.595643\n",
       "Tor    0.560133\n",
       "Uta    0.670333\n",
       "Name: FT%, dtype: float64"
      ]
     },
     "execution_count": 163,
     "metadata": {},
     "output_type": "execute_result"
    }
   ],
   "source": [
    "df.groupby([\"TEAM\"]).mean(numeric_only = True)[\"FT%\"] # .groupby() => average PER TEAM"
   ]
  },
  {
   "cell_type": "markdown",
   "id": "b541fa9c",
   "metadata": {},
   "source": [
    "#### Guess the result of the next code: True or False?"
   ]
  },
  {
   "cell_type": "code",
   "execution_count": 26,
   "id": "100d0c6c",
   "metadata": {},
   "outputs": [
    {
     "name": "stdout",
     "output_type": "stream",
     "text": [
      "False\n"
     ]
    }
   ],
   "source": [
    "simpsons = pd.Series(\n",
    "['Homer', 'Marge', 'Bart', 'Lisa', 'Maggie'])\n",
    "print('Bart' in simpsons)"
   ]
  },
  {
   "cell_type": "code",
   "execution_count": 27,
   "id": "5c46e3b4",
   "metadata": {},
   "outputs": [
    {
     "name": "stdout",
     "output_type": "stream",
     "text": [
      "True\n"
     ]
    }
   ],
   "source": [
    "simpsons = pd.Series(\n",
    "['Homer', 'Marge', 'Bart', 'Lisa', 'Maggie'])\n",
    "print('Bart' in simpsons.values)"
   ]
  },
  {
   "cell_type": "markdown",
   "id": "d38b4e99",
   "metadata": {},
   "source": [
    "#### Round in pandas. `round()` function is used to round a DataFrame to a variable number of decimal places. Yet, run the cell below to see a weird behavior. "
   ]
  },
  {
   "cell_type": "code",
   "execution_count": 28,
   "id": "2d594fdc",
   "metadata": {},
   "outputs": [
    {
     "name": "stdout",
     "output_type": "stream",
     "text": [
      "0   -2.0\n",
      "1   -2.0\n",
      "2   -0.0\n",
      "3    0.0\n",
      "4    2.0\n",
      "5    2.0\n",
      "dtype: float64\n"
     ]
    }
   ],
   "source": [
    "s = pd.Series([-2.5, -1.5, -0.5, 0.5, 1.5, 2.5])\n",
    "print(s.round())"
   ]
  },
  {
   "cell_type": "markdown",
   "id": "56df7865",
   "metadata": {},
   "source": [
    "This is called bankers’ rounding. Odd numbers are rounded up, even numbers are rounded down."
   ]
  },
  {
   "cell_type": "markdown",
   "id": "2bb2734a",
   "metadata": {},
   "source": [
    "#### Correct the mistake in the following cell to get numbers larger than two and small than five"
   ]
  },
  {
   "cell_type": "code",
   "execution_count": 36,
   "id": "93113269",
   "metadata": {},
   "outputs": [
    {
     "name": "stdout",
     "output_type": "stream",
     "text": [
      "2    3\n",
      "3    4\n",
      "dtype: int64\n"
     ]
    }
   ],
   "source": [
    "nums = pd.Series([1, 2, 3, 4, 5, 6])\n",
    "print(nums[(nums > 2) & (nums < 5)])"
   ]
  },
  {
   "cell_type": "markdown",
   "id": "67d4b4c2",
   "metadata": {},
   "source": [
    "#### Change the df in order to reflect an 20% increase in the prices. "
   ]
  },
  {
   "cell_type": "code",
   "execution_count": 45,
   "id": "b8f07f50",
   "metadata": {},
   "outputs": [],
   "source": [
    "df = pd.DataFrame([\n",
    "['T-shirt', 70],\n",
    "['Pants', 80],\n",
    "['Coat', 250],\n",
    "['Shirt', 95]], columns=['item', 'price'])"
   ]
  },
  {
   "cell_type": "code",
   "execution_count": 46,
   "id": "c2a934b7",
   "metadata": {},
   "outputs": [
    {
     "data": {
      "text/html": [
       "<div>\n",
       "<style scoped>\n",
       "    .dataframe tbody tr th:only-of-type {\n",
       "        vertical-align: middle;\n",
       "    }\n",
       "\n",
       "    .dataframe tbody tr th {\n",
       "        vertical-align: top;\n",
       "    }\n",
       "\n",
       "    .dataframe thead th {\n",
       "        text-align: right;\n",
       "    }\n",
       "</style>\n",
       "<table border=\"1\" class=\"dataframe\">\n",
       "  <thead>\n",
       "    <tr style=\"text-align: right;\">\n",
       "      <th></th>\n",
       "      <th>item</th>\n",
       "      <th>price</th>\n",
       "    </tr>\n",
       "  </thead>\n",
       "  <tbody>\n",
       "    <tr>\n",
       "      <th>0</th>\n",
       "      <td>T-shirt</td>\n",
       "      <td>84.0</td>\n",
       "    </tr>\n",
       "    <tr>\n",
       "      <th>1</th>\n",
       "      <td>Pants</td>\n",
       "      <td>96.0</td>\n",
       "    </tr>\n",
       "    <tr>\n",
       "      <th>2</th>\n",
       "      <td>Coat</td>\n",
       "      <td>300.0</td>\n",
       "    </tr>\n",
       "    <tr>\n",
       "      <th>3</th>\n",
       "      <td>Shirt</td>\n",
       "      <td>114.0</td>\n",
       "    </tr>\n",
       "  </tbody>\n",
       "</table>\n",
       "</div>"
      ],
      "text/plain": [
       "      item  price\n",
       "0  T-shirt   84.0\n",
       "1    Pants   96.0\n",
       "2     Coat  300.0\n",
       "3    Shirt  114.0"
      ]
     },
     "execution_count": 46,
     "metadata": {},
     "output_type": "execute_result"
    }
   ],
   "source": [
    "df[\"price\"] = df[\"price\"] * 1.20\n",
    "df"
   ]
  },
  {
   "cell_type": "markdown",
   "id": "c0e42f8d",
   "metadata": {},
   "source": [
    "#### Change the df below so it reflects a 35% increase in the price of the vegetables and a 25% decrease in the price of fruits."
   ]
  },
  {
   "cell_type": "code",
   "execution_count": 178,
   "id": "f8aea217",
   "metadata": {},
   "outputs": [],
   "source": [
    "df = pd.DataFrame([\n",
    "['Carrots', 'vegetable', 6],\n",
    "['Apple', 'fruit', 5],\n",
    "['Banana', 'fruit', 4],\n",
    "['Spinach', 'vegetable', 2]], columns=['item', 'type', 'price'])"
   ]
  },
  {
   "cell_type": "code",
   "execution_count": 175,
   "id": "1ff4e673",
   "metadata": {},
   "outputs": [
    {
     "data": {
      "text/html": [
       "<div>\n",
       "<style scoped>\n",
       "    .dataframe tbody tr th:only-of-type {\n",
       "        vertical-align: middle;\n",
       "    }\n",
       "\n",
       "    .dataframe tbody tr th {\n",
       "        vertical-align: top;\n",
       "    }\n",
       "\n",
       "    .dataframe thead th {\n",
       "        text-align: right;\n",
       "    }\n",
       "</style>\n",
       "<table border=\"1\" class=\"dataframe\">\n",
       "  <thead>\n",
       "    <tr style=\"text-align: right;\">\n",
       "      <th></th>\n",
       "      <th>item</th>\n",
       "      <th>type</th>\n",
       "      <th>price</th>\n",
       "    </tr>\n",
       "  </thead>\n",
       "  <tbody>\n",
       "    <tr>\n",
       "      <th>0</th>\n",
       "      <td>Carrots</td>\n",
       "      <td>vegetable</td>\n",
       "      <td>8.10</td>\n",
       "    </tr>\n",
       "    <tr>\n",
       "      <th>1</th>\n",
       "      <td>Apple</td>\n",
       "      <td>fruit</td>\n",
       "      <td>3.75</td>\n",
       "    </tr>\n",
       "    <tr>\n",
       "      <th>2</th>\n",
       "      <td>Banana</td>\n",
       "      <td>fruit</td>\n",
       "      <td>3.00</td>\n",
       "    </tr>\n",
       "    <tr>\n",
       "      <th>3</th>\n",
       "      <td>Spinach</td>\n",
       "      <td>vegetable</td>\n",
       "      <td>2.70</td>\n",
       "    </tr>\n",
       "  </tbody>\n",
       "</table>\n",
       "</div>"
      ],
      "text/plain": [
       "      item       type  price\n",
       "0  Carrots  vegetable   8.10\n",
       "1    Apple      fruit   3.75\n",
       "2   Banana      fruit   3.00\n",
       "3  Spinach  vegetable   2.70"
      ]
     },
     "execution_count": 175,
     "metadata": {},
     "output_type": "execute_result"
    }
   ],
   "source": [
    "# loc to give entire row for something specific\n",
    "df.loc[df['type'] == 'vegetable', 'price'] = df.loc[df['type'] == 'vegetable', 'price'] * 1.35\n",
    "df.loc[df['type'] == 'fruit', 'price'] = df.loc[df['type'] == 'fruit', 'price'] * 0.75\n",
    "df"
   ]
  },
  {
   "cell_type": "code",
   "execution_count": 179,
   "id": "bdd6a8a8",
   "metadata": {},
   "outputs": [
    {
     "data": {
      "text/html": [
       "<div>\n",
       "<style scoped>\n",
       "    .dataframe tbody tr th:only-of-type {\n",
       "        vertical-align: middle;\n",
       "    }\n",
       "\n",
       "    .dataframe tbody tr th {\n",
       "        vertical-align: top;\n",
       "    }\n",
       "\n",
       "    .dataframe thead th {\n",
       "        text-align: right;\n",
       "    }\n",
       "</style>\n",
       "<table border=\"1\" class=\"dataframe\">\n",
       "  <thead>\n",
       "    <tr style=\"text-align: right;\">\n",
       "      <th></th>\n",
       "      <th>item</th>\n",
       "      <th>type</th>\n",
       "      <th>price</th>\n",
       "    </tr>\n",
       "  </thead>\n",
       "  <tbody>\n",
       "    <tr>\n",
       "      <th>0</th>\n",
       "      <td>Carrots</td>\n",
       "      <td>vegetable</td>\n",
       "      <td>8.10</td>\n",
       "    </tr>\n",
       "    <tr>\n",
       "      <th>1</th>\n",
       "      <td>Apple</td>\n",
       "      <td>fruit</td>\n",
       "      <td>3.75</td>\n",
       "    </tr>\n",
       "    <tr>\n",
       "      <th>2</th>\n",
       "      <td>Banana</td>\n",
       "      <td>fruit</td>\n",
       "      <td>3.00</td>\n",
       "    </tr>\n",
       "    <tr>\n",
       "      <th>3</th>\n",
       "      <td>Spinach</td>\n",
       "      <td>vegetable</td>\n",
       "      <td>2.70</td>\n",
       "    </tr>\n",
       "  </tbody>\n",
       "</table>\n",
       "</div>"
      ],
      "text/plain": [
       "      item       type  price\n",
       "0  Carrots  vegetable   8.10\n",
       "1    Apple      fruit   3.75\n",
       "2   Banana      fruit   3.00\n",
       "3  Spinach  vegetable   2.70"
      ]
     },
     "execution_count": 179,
     "metadata": {},
     "output_type": "execute_result"
    }
   ],
   "source": [
    "df.loc[df['type'] == 'vegetable', 'price'] *= 1.35 # more concise answer\n",
    "df.loc[df['type'] == 'fruit', 'price'] *= 0.75\n",
    "df"
   ]
  },
  {
   "cell_type": "markdown",
   "id": "b17c0c0b",
   "metadata": {},
   "source": [
    "#### There is a DataFrame with products. If the products are going to turn bad soon, their condition is described as False. Else, their condition is True. Create a new df that gives a 40% discount if the product might turn bad and 15% increase if they are still in good condition."
   ]
  },
  {
   "cell_type": "code",
   "execution_count": 180,
   "id": "abac3838",
   "metadata": {},
   "outputs": [],
   "source": [
    "df = pd.DataFrame([\n",
    "['Egg', False, 6],\n",
    "['Watermelon', True, 5],\n",
    "['Milk', False, 4],\n",
    "['Water', True, 2]], columns=['item', 'condition', 'price'])"
   ]
  },
  {
   "cell_type": "code",
   "execution_count": 181,
   "id": "e34b1161",
   "metadata": {},
   "outputs": [
    {
     "data": {
      "text/html": [
       "<div>\n",
       "<style scoped>\n",
       "    .dataframe tbody tr th:only-of-type {\n",
       "        vertical-align: middle;\n",
       "    }\n",
       "\n",
       "    .dataframe tbody tr th {\n",
       "        vertical-align: top;\n",
       "    }\n",
       "\n",
       "    .dataframe thead th {\n",
       "        text-align: right;\n",
       "    }\n",
       "</style>\n",
       "<table border=\"1\" class=\"dataframe\">\n",
       "  <thead>\n",
       "    <tr style=\"text-align: right;\">\n",
       "      <th></th>\n",
       "      <th>item</th>\n",
       "      <th>condition</th>\n",
       "      <th>price</th>\n",
       "    </tr>\n",
       "  </thead>\n",
       "  <tbody>\n",
       "    <tr>\n",
       "      <th>0</th>\n",
       "      <td>Egg</td>\n",
       "      <td>False</td>\n",
       "      <td>3.60</td>\n",
       "    </tr>\n",
       "    <tr>\n",
       "      <th>1</th>\n",
       "      <td>Watermelon</td>\n",
       "      <td>True</td>\n",
       "      <td>5.75</td>\n",
       "    </tr>\n",
       "    <tr>\n",
       "      <th>2</th>\n",
       "      <td>Milk</td>\n",
       "      <td>False</td>\n",
       "      <td>2.40</td>\n",
       "    </tr>\n",
       "    <tr>\n",
       "      <th>3</th>\n",
       "      <td>Water</td>\n",
       "      <td>True</td>\n",
       "      <td>2.30</td>\n",
       "    </tr>\n",
       "  </tbody>\n",
       "</table>\n",
       "</div>"
      ],
      "text/plain": [
       "         item  condition  price\n",
       "0         Egg      False   3.60\n",
       "1  Watermelon       True   5.75\n",
       "2        Milk      False   2.40\n",
       "3       Water       True   2.30"
      ]
     },
     "execution_count": 181,
     "metadata": {},
     "output_type": "execute_result"
    }
   ],
   "source": [
    "df.loc[df['condition'] == False, 'price'] = df.loc[df['condition'] == False, 'price'] * 0.60\n",
    "df.loc[df['condition'] == True, 'price'] = df.loc[df['condition'] == True, 'price'] * 1.15\n",
    "df"
   ]
  }
 ],
 "metadata": {
  "kernelspec": {
   "display_name": "Python 3 (ipykernel)",
   "language": "python",
   "name": "python3"
  },
  "language_info": {
   "codemirror_mode": {
    "name": "ipython",
    "version": 3
   },
   "file_extension": ".py",
   "mimetype": "text/x-python",
   "name": "python",
   "nbconvert_exporter": "python",
   "pygments_lexer": "ipython3",
   "version": "3.11.5"
  }
 },
 "nbformat": 4,
 "nbformat_minor": 5
}
